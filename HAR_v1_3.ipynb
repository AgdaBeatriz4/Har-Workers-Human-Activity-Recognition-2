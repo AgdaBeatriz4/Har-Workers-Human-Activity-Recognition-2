{
  "cells": [
    {
      "cell_type": "markdown",
      "metadata": {
        "id": "view-in-github",
        "colab_type": "text"
      },
      "source": [
        "<a href=\"https://colab.research.google.com/github/AgdaBeatriz4/HumanActivityRecognition/blob/main/HAR_v1_3.ipynb\" target=\"_parent\"><img src=\"https://colab.research.google.com/assets/colab-badge.svg\" alt=\"Open In Colab\"/></a>"
      ]
    },
    {
      "cell_type": "code",
      "execution_count": null,
      "metadata": {
        "id": "6ldLnTBBe3Iq"
      },
      "outputs": [],
      "source": [
        "# importações\n",
        "import pandas as pd\n",
        "\n",
        "import random\n",
        "import numpy as np\n",
        "import matplotlib.pyplot as plt\n",
        "import matplotlib.colors\n",
        "\n",
        "import seaborn as sns\n",
        "\n",
        "from sklearn.neighbors import KNeighborsClassifier\n",
        "from sklearn.linear_model import LogisticRegression\n",
        "from sklearn import svm\n",
        "from sklearn.ensemble import RandomForestClassifier\n",
        "\n",
        "from sklearn.preprocessing import OneHotEncoder, StandardScaler\n",
        "from sklearn.model_selection import train_test_split, cross_val_score, GridSearchCV\n",
        "from imblearn.over_sampling import SMOTE\n",
        "\n",
        "from sklearn.metrics import classification_report, confusion_matrix, accuracy_score, f1_score, recall_score, precision_score\n",
        "import itertools"
      ]
    },
    {
      "cell_type": "code",
      "execution_count": null,
      "metadata": {
        "id": "QwTGyhTBfeKH"
      },
      "outputs": [],
      "source": [
        "# mapa de cores personalizado utilizado para alguns gráficos\n",
        "custom_cmap = matplotlib.colors.ListedColormap([\"#94d2bdff\", \"#72c3b4ff\", \"#4fb3aaff\", \"#2da3a0ff\", \"#0a9396ff\", \"#057985ff\", \"#005f73ff\", \"#004f5fff\", \"#003f4bff\", \"#002932ff\"])"
      ]
    },
    {
      "cell_type": "markdown",
      "metadata": {
        "id": "AKWoIpclbtdN"
      },
      "source": [
        "pallete: https://coolors.co/94d2bd-72c3b4-4fb3aa-2da3a0-0a9396-057985-005f73-004f5f-003f4b-002932"
      ]
    },
    {
      "cell_type": "code",
      "execution_count": null,
      "metadata": {
        "id": "2qQpinq_oJxd"
      },
      "outputs": [],
      "source": [
        "#funções utilizadas\n",
        "def removePositions():\n",
        "  global positions, positionsLabelsHistoric\n",
        "\n",
        "  # subtrair arrays\n",
        "  for a in positionsLabelsHistoric: \n",
        "    if a in positions: \n",
        "      positions.remove(a)\n",
        "\n",
        "def addPositions():\n",
        "  for a in positionsLabelsHistoric: \n",
        "    if a in positions: \n",
        "      positions.append(a)\n",
        "\n",
        "def NewPositionSameLabel():\n",
        "  global positions, positionsLabelsHistoric\n",
        "  \n",
        "  # transformando as posições da label que estao em tupla para lista\n",
        "  positions = positionsCurrentCopyYTest[0].tolist()\n",
        "\n",
        "  # subtrair arrays\n",
        "  removePositions()\n",
        "\n",
        "def newPredictionNewLabel():\n",
        "  global newYtest, lock, formerLabel, labels, currentRandomLabel, positionsCurrentCopyYTest, positions, newPositionLabel, positionsLabelsHistoric, formerPrediction, currentPrediction, FP, TN\n",
        "\n",
        "  positionsCurrentCopyYTest = np.where(copyY_test == currentRandomLabel)\n",
        "\n",
        "  positions = positionsCurrentCopyYTest[0].tolist()\n",
        "\n",
        "  addPositions()\n",
        "\n",
        "  newPositionLabel = random.choice(positions)\n",
        "\n",
        "  formerPrediction = currentPrediction\n",
        "\n",
        "  currentPrediction = knn.predict(copyX_test[newPositionLabel].reshape(1, -1))\n",
        "  if currentPrediction == formerPrediction:\n",
        "    FP = FP + 1\n",
        "    trues.append(formerPrediction[0])\n",
        "    predictions.append(currentPrediction[0])\n",
        "    newYtest.append(1)\n",
        "  else:\n",
        "    TN = TN + 1\n",
        "    trues.append(formerPrediction[0])\n",
        "    predictions.append(currentPrediction[0])\n",
        "    newYtest.append(1)\n",
        "    \n",
        "  labels.append(formerLabel)\n",
        "\n",
        "def RFnewPredictionNewLabel():\n",
        "  global newYtest, lock, formerLabel, labels, currentRandomLabel, positionsCurrentCopyYTest, positions, newPositionLabel, positionsLabelsHistoric, formerPrediction, currentPrediction, FP, TN\n",
        "\n",
        "  positionsCurrentCopyYTest = np.where(copyY_test == currentRandomLabel)\n",
        "\n",
        "  positions = positionsCurrentCopyYTest[0].tolist()\n",
        "\n",
        "  addPositions()\n",
        "\n",
        "  newPositionLabel = random.choice(positions)\n",
        "\n",
        "  formerPrediction = currentPrediction\n",
        "\n",
        "  currentPrediction = Rf.predict(copyX_test[newPositionLabel].reshape(1, -1))\n",
        "  if currentPrediction == formerPrediction:\n",
        "    FP = FP + 1\n",
        "    trues.append(formerPrediction[0])\n",
        "    predictions.append(currentPrediction[0])\n",
        "    newYtest.append(1)\n",
        "  else:\n",
        "    TN = TN + 1\n",
        "    trues.append(formerPrediction[0])\n",
        "    predictions.append(currentPrediction[0])\n",
        "    newYtest.append(1)\n",
        "    \n",
        "  labels.append(formerLabel)\n",
        "\n",
        "def newPredictionSameLabel():\n",
        "  global newYtest, lock, formerLabel, labels, currentRandomLabel, positionsCurrentCopyYTest, positions, newPositionLabel, positionsLabelsHistoric, formerPrediction, currentPrediction, TP, FN\n",
        "\n",
        "  positionsCurrentCopyYTest = np.where(copyY_test == currentRandomLabel)\n",
        "\n",
        "  positions = positionsCurrentCopyYTest[0].tolist()\n",
        "\n",
        "  addPositions()\n",
        "\n",
        "  newPositionLabel = random.choice(positions)\n",
        "\n",
        "  formerPrediction = currentPrediction\n",
        "\n",
        "  currentPrediction = knn.predict(copyX_test[newPositionLabel].reshape(1, -1))\n",
        "  if currentPrediction == formerPrediction:\n",
        "    TP = TP + 1\n",
        "    trues.append(formerPrediction[0])\n",
        "    predictions.append(currentPrediction[0])\n",
        "    newYtest.append(0)\n",
        "  else:\n",
        "    FN = FN + 1\n",
        "    trues.append(formerPrediction[0])\n",
        "    predictions.append(currentPrediction[0])\n",
        "    newYtest.append(0)\n",
        "\n",
        "def RFnewPredictionSameLabel():\n",
        "  global newYtest, lock, formerLabel, labels, currentRandomLabel, positionsCurrentCopyYTest, positions, newPositionLabel, positionsLabelsHistoric, formerPrediction, currentPrediction, TP, FN\n",
        "\n",
        "  positionsCurrentCopyYTest = np.where(copyY_test == currentRandomLabel)\n",
        "\n",
        "  positions = positionsCurrentCopyYTest[0].tolist()\n",
        "\n",
        "  addPositions()\n",
        "\n",
        "  newPositionLabel = random.choice(positions)\n",
        "\n",
        "  formerPrediction = currentPrediction\n",
        "\n",
        "  currentPrediction = Rf.predict(copyX_test[newPositionLabel].reshape(1, -1))\n",
        "  if currentPrediction == formerPrediction:\n",
        "    TP = TP + 1\n",
        "    trues.append(formerPrediction[0])\n",
        "    predictions.append(currentPrediction[0])\n",
        "    newYtest.append(0)\n",
        "  else:\n",
        "    FN = FN + 1\n",
        "    trues.append(formerPrediction[0])\n",
        "    predictions.append(currentPrediction[0])\n",
        "    newYtest.append(0)\n",
        "\n",
        "def uniqueLabel():\n",
        "  global positionsCurrentCopyYTest, positions, positionsLabelsHistoric, newPositionLabel, formerPrediction, currentPrediction, FP, TN, TP, FN\n",
        "  \n",
        "  positionsCurrentCopyYTest = np.where(copyY_test == labels[0])\n",
        "\n",
        "  positions = positionsCurrentCopyYTest[0].tolist()\n",
        "\n",
        "  # subtrair arrays\n",
        "  removePositions()\n",
        "\n",
        "  newPositionLabel = random.choice(positions)\n",
        "  positionsLabelsHistoric.append(newPositionLabel)\n",
        "\n",
        "  formerPrediction = currentPrediction\n",
        "\n",
        "  currentPrediction = knn.predict(copyX_test[newPositionLabel].reshape(1, -1))\n",
        "  if currentPrediction == formerPrediction:\n",
        "    FP = FP + 1\n",
        "    trues.append(formerPrediction[0])\n",
        "    predictions.append(currentPrediction[0])\n",
        "  else:\n",
        "    TN = TN + 1\n",
        "    trues.append(formerPrediction[0])\n",
        "    predictions.append(currentPrediction[0])\n",
        "\n",
        "\n",
        "  for positionLabel in positions:\n",
        "    formerPrediction = currentPrediction\n",
        "\n",
        "    currentPrediction = knn.predict(copyX_test[positionLabel].reshape(1, -1))\n",
        "    if currentPrediction == formerPrediction:\n",
        "      TP = TP + 1\n",
        "      trues.append(formerPrediction[0])\n",
        "      predictions.append(currentPrediction[0])\n",
        "    else:\n",
        "      FN = FN + 1\n",
        "      trues.append(formerPrediction[0])\n",
        "      predictions.append(currentPrediction[0])\n",
        "\n",
        "def RFuniqueLabel():\n",
        "  global positionsCurrentCopyYTest, positions, positionsLabelsHistoric, newPositionLabel, formerPrediction, currentPrediction, FP, TN, TP, FN\n",
        "  \n",
        "  positionsCurrentCopyYTest = np.where(copyY_test == labels[0])\n",
        "\n",
        "  positions = positionsCurrentCopyYTest[0].tolist()\n",
        "\n",
        "  # subtrair arrays\n",
        "  removePositions()\n",
        "\n",
        "  newPositionLabel = random.choice(positions)\n",
        "  positionsLabelsHistoric.append(newPositionLabel)\n",
        "\n",
        "  formerPrediction = currentPrediction\n",
        "\n",
        "  currentPrediction = Rf.predict(copyX_test[newPositionLabel].reshape(1, -1))\n",
        "  if currentPrediction == formerPrediction:\n",
        "    FP = FP + 1\n",
        "    trues.append(formerPrediction[0])\n",
        "    predictions.append(currentPrediction[0])\n",
        "  else:\n",
        "    TN = TN + 1\n",
        "    trues.append(formerPrediction[0])\n",
        "    predictions.append(currentPrediction[0])\n",
        "\n",
        "\n",
        "  for positionLabel in positions:\n",
        "    formerPrediction = currentPrediction\n",
        "\n",
        "    currentPrediction = Rf.predict(copyX_test[positionLabel].reshape(1, -1))\n",
        "    if currentPrediction == formerPrediction:\n",
        "      TP = TP + 1\n",
        "      trues.append(formerPrediction[0])\n",
        "      predictions.append(currentPrediction[0])\n",
        "    else:\n",
        "      FN = FN + 1\n",
        "      trues.append(formerPrediction[0])\n",
        "      predictions.append(currentPrediction[0])\n",
        "\n",
        "def plot_confusion_matrix(cm, classes,\n",
        "                          normalize=False,\n",
        "                          title='Confusion matrix',\n",
        "                          cmap=custom_cmap):\n",
        "    \"\"\"\n",
        "    This function prints and plots the confusion matrix.\n",
        "    Normalization can be applied by setting `normalize=True`.\n",
        "    \"\"\"\n",
        "    if normalize:\n",
        "        cm = cm.astype('float') / cm.sum(axis=1)[:, np.newaxis]\n",
        "        print(\"Normalized confusion matrix\")\n",
        "    else:\n",
        "        print('Confusion matrix, without normalization')\n",
        "\n",
        "    print(cm)\n",
        "\n",
        "    plt.imshow(cm, interpolation='nearest', cmap=cmap)\n",
        "    plt.title(title)\n",
        "    plt.colorbar()\n",
        "    tick_marks = np.arange(len(classes))\n",
        "    plt.xticks(tick_marks, classes, rotation=45)\n",
        "    plt.yticks(tick_marks, classes)\n",
        "\n",
        "    fmt = '.2f' if normalize else 'd'\n",
        "    thresh = cm.max() / 2.\n",
        "    for i, j in itertools.product(range(cm.shape[0]), range(cm.shape[1])):\n",
        "        plt.text(j, i, format(cm[i, j], fmt),\n",
        "                 horizontalalignment=\"center\",\n",
        "                 color=\"white\" if cm[i, j] > thresh else \"black\")\n",
        "\n",
        "    plt.tight_layout()\n",
        "    plt.ylabel('True label')\n",
        "    plt.xlabel('Predicted label')\n",
        "\n",
        "# obtendo os parametros para multi-classe\n",
        "def perf_measure(y_actual, y_hat):\n",
        "    class_id = set(y_actual).union(set(y_pred))\n",
        "    TP = []\n",
        "    FP = []\n",
        "    TN = []\n",
        "    FN = []\n",
        "\n",
        "    for index ,_id in enumerate(class_id):\n",
        "        TP.append(0)\n",
        "        FP.append(0)\n",
        "        TN.append(0)\n",
        "        FN.append(0)\n",
        "        for i in range(len(y_pred)):\n",
        "            if y_actual[i] == y_pred[i] == _id:\n",
        "                TP[index] += 1\n",
        "            if y_pred[i] == _id and y_actual[i] != y_pred[i]:\n",
        "                FP[index] += 1\n",
        "            if y_actual[i] == y_pred[i] != _id:\n",
        "                TN[index] += 1\n",
        "            if y_pred[i] != _id and y_actual[i] != y_pred[i]:\n",
        "                FN[index] += 1\n",
        "\n",
        "\n",
        "    return class_id,TP, FP, TN, FN"
      ]
    },
    {
      "cell_type": "code",
      "execution_count": null,
      "metadata": {
        "id": "uouc2EyfBOK8"
      },
      "outputs": [],
      "source": [
        "# dataframe\n",
        "df = pd.read_csv(\"https://raw.githubusercontent.com/zhangzhao156/Human-Activity-Recognition-Codes-Datasets/master/data/SanitationDataset/sanitation.csv\")"
      ]
    },
    {
      "cell_type": "code",
      "execution_count": null,
      "metadata": {
        "colab": {
          "base_uri": "https://localhost:8080/",
          "height": 424
        },
        "id": "BgH8IknuVqPb",
        "outputId": "45b5e3d4-e007-4569-87dc-7c01ed181238"
      },
      "outputs": [
        {
          "output_type": "execute_result",
          "data": {
            "text/plain": [
              "          x    y    z  label  \\\n",
              "0        20  781 -507   walk   \n",
              "1        40  797 -492   walk   \n",
              "2        59  807 -502   walk   \n",
              "3        75  807 -527   walk   \n",
              "4       107  806 -560   walk   \n",
              "...     ...  ...  ...    ...   \n",
              "266550 -941  174  337  clean   \n",
              "266551 -942  173  314  clean   \n",
              "266552 -916  158  310  clean   \n",
              "266553 -898  145  304  clean   \n",
              "266554 -891  132  295  clean   \n",
              "\n",
              "                                                      seg  suspicious  \n",
              "0       walk/863137003295439_walk_L_2017-07-25 17-39-0...       False  \n",
              "1       walk/863137003295439_walk_L_2017-07-25 17-39-0...       False  \n",
              "2       walk/863137003295439_walk_L_2017-07-25 17-39-0...       False  \n",
              "3       walk/863137003295439_walk_L_2017-07-25 17-39-0...       False  \n",
              "4       walk/863137003295439_walk_L_2017-07-25 17-39-0...       False  \n",
              "...                                                   ...         ...  \n",
              "266550       clean/庆喜/repeat_82-duration_60.csv-1584-1628       False  \n",
              "266551       clean/庆喜/repeat_82-duration_60.csv-1584-1628       False  \n",
              "266552       clean/庆喜/repeat_82-duration_60.csv-1584-1628       False  \n",
              "266553       clean/庆喜/repeat_82-duration_60.csv-1584-1628       False  \n",
              "266554       clean/庆喜/repeat_82-duration_60.csv-1584-1628       False  \n",
              "\n",
              "[266555 rows x 6 columns]"
            ],
            "text/html": [
              "\n",
              "  <div id=\"df-b1983cc4-6fb8-4dd3-911c-8a6e57bbad49\">\n",
              "    <div class=\"colab-df-container\">\n",
              "      <div>\n",
              "<style scoped>\n",
              "    .dataframe tbody tr th:only-of-type {\n",
              "        vertical-align: middle;\n",
              "    }\n",
              "\n",
              "    .dataframe tbody tr th {\n",
              "        vertical-align: top;\n",
              "    }\n",
              "\n",
              "    .dataframe thead th {\n",
              "        text-align: right;\n",
              "    }\n",
              "</style>\n",
              "<table border=\"1\" class=\"dataframe\">\n",
              "  <thead>\n",
              "    <tr style=\"text-align: right;\">\n",
              "      <th></th>\n",
              "      <th>x</th>\n",
              "      <th>y</th>\n",
              "      <th>z</th>\n",
              "      <th>label</th>\n",
              "      <th>seg</th>\n",
              "      <th>suspicious</th>\n",
              "    </tr>\n",
              "  </thead>\n",
              "  <tbody>\n",
              "    <tr>\n",
              "      <th>0</th>\n",
              "      <td>20</td>\n",
              "      <td>781</td>\n",
              "      <td>-507</td>\n",
              "      <td>walk</td>\n",
              "      <td>walk/863137003295439_walk_L_2017-07-25 17-39-0...</td>\n",
              "      <td>False</td>\n",
              "    </tr>\n",
              "    <tr>\n",
              "      <th>1</th>\n",
              "      <td>40</td>\n",
              "      <td>797</td>\n",
              "      <td>-492</td>\n",
              "      <td>walk</td>\n",
              "      <td>walk/863137003295439_walk_L_2017-07-25 17-39-0...</td>\n",
              "      <td>False</td>\n",
              "    </tr>\n",
              "    <tr>\n",
              "      <th>2</th>\n",
              "      <td>59</td>\n",
              "      <td>807</td>\n",
              "      <td>-502</td>\n",
              "      <td>walk</td>\n",
              "      <td>walk/863137003295439_walk_L_2017-07-25 17-39-0...</td>\n",
              "      <td>False</td>\n",
              "    </tr>\n",
              "    <tr>\n",
              "      <th>3</th>\n",
              "      <td>75</td>\n",
              "      <td>807</td>\n",
              "      <td>-527</td>\n",
              "      <td>walk</td>\n",
              "      <td>walk/863137003295439_walk_L_2017-07-25 17-39-0...</td>\n",
              "      <td>False</td>\n",
              "    </tr>\n",
              "    <tr>\n",
              "      <th>4</th>\n",
              "      <td>107</td>\n",
              "      <td>806</td>\n",
              "      <td>-560</td>\n",
              "      <td>walk</td>\n",
              "      <td>walk/863137003295439_walk_L_2017-07-25 17-39-0...</td>\n",
              "      <td>False</td>\n",
              "    </tr>\n",
              "    <tr>\n",
              "      <th>...</th>\n",
              "      <td>...</td>\n",
              "      <td>...</td>\n",
              "      <td>...</td>\n",
              "      <td>...</td>\n",
              "      <td>...</td>\n",
              "      <td>...</td>\n",
              "    </tr>\n",
              "    <tr>\n",
              "      <th>266550</th>\n",
              "      <td>-941</td>\n",
              "      <td>174</td>\n",
              "      <td>337</td>\n",
              "      <td>clean</td>\n",
              "      <td>clean/庆喜/repeat_82-duration_60.csv-1584-1628</td>\n",
              "      <td>False</td>\n",
              "    </tr>\n",
              "    <tr>\n",
              "      <th>266551</th>\n",
              "      <td>-942</td>\n",
              "      <td>173</td>\n",
              "      <td>314</td>\n",
              "      <td>clean</td>\n",
              "      <td>clean/庆喜/repeat_82-duration_60.csv-1584-1628</td>\n",
              "      <td>False</td>\n",
              "    </tr>\n",
              "    <tr>\n",
              "      <th>266552</th>\n",
              "      <td>-916</td>\n",
              "      <td>158</td>\n",
              "      <td>310</td>\n",
              "      <td>clean</td>\n",
              "      <td>clean/庆喜/repeat_82-duration_60.csv-1584-1628</td>\n",
              "      <td>False</td>\n",
              "    </tr>\n",
              "    <tr>\n",
              "      <th>266553</th>\n",
              "      <td>-898</td>\n",
              "      <td>145</td>\n",
              "      <td>304</td>\n",
              "      <td>clean</td>\n",
              "      <td>clean/庆喜/repeat_82-duration_60.csv-1584-1628</td>\n",
              "      <td>False</td>\n",
              "    </tr>\n",
              "    <tr>\n",
              "      <th>266554</th>\n",
              "      <td>-891</td>\n",
              "      <td>132</td>\n",
              "      <td>295</td>\n",
              "      <td>clean</td>\n",
              "      <td>clean/庆喜/repeat_82-duration_60.csv-1584-1628</td>\n",
              "      <td>False</td>\n",
              "    </tr>\n",
              "  </tbody>\n",
              "</table>\n",
              "<p>266555 rows × 6 columns</p>\n",
              "</div>\n",
              "      <button class=\"colab-df-convert\" onclick=\"convertToInteractive('df-b1983cc4-6fb8-4dd3-911c-8a6e57bbad49')\"\n",
              "              title=\"Convert this dataframe to an interactive table.\"\n",
              "              style=\"display:none;\">\n",
              "        \n",
              "  <svg xmlns=\"http://www.w3.org/2000/svg\" height=\"24px\"viewBox=\"0 0 24 24\"\n",
              "       width=\"24px\">\n",
              "    <path d=\"M0 0h24v24H0V0z\" fill=\"none\"/>\n",
              "    <path d=\"M18.56 5.44l.94 2.06.94-2.06 2.06-.94-2.06-.94-.94-2.06-.94 2.06-2.06.94zm-11 1L8.5 8.5l.94-2.06 2.06-.94-2.06-.94L8.5 2.5l-.94 2.06-2.06.94zm10 10l.94 2.06.94-2.06 2.06-.94-2.06-.94-.94-2.06-.94 2.06-2.06.94z\"/><path d=\"M17.41 7.96l-1.37-1.37c-.4-.4-.92-.59-1.43-.59-.52 0-1.04.2-1.43.59L10.3 9.45l-7.72 7.72c-.78.78-.78 2.05 0 2.83L4 21.41c.39.39.9.59 1.41.59.51 0 1.02-.2 1.41-.59l7.78-7.78 2.81-2.81c.8-.78.8-2.07 0-2.86zM5.41 20L4 18.59l7.72-7.72 1.47 1.35L5.41 20z\"/>\n",
              "  </svg>\n",
              "      </button>\n",
              "      \n",
              "  <style>\n",
              "    .colab-df-container {\n",
              "      display:flex;\n",
              "      flex-wrap:wrap;\n",
              "      gap: 12px;\n",
              "    }\n",
              "\n",
              "    .colab-df-convert {\n",
              "      background-color: #E8F0FE;\n",
              "      border: none;\n",
              "      border-radius: 50%;\n",
              "      cursor: pointer;\n",
              "      display: none;\n",
              "      fill: #1967D2;\n",
              "      height: 32px;\n",
              "      padding: 0 0 0 0;\n",
              "      width: 32px;\n",
              "    }\n",
              "\n",
              "    .colab-df-convert:hover {\n",
              "      background-color: #E2EBFA;\n",
              "      box-shadow: 0px 1px 2px rgba(60, 64, 67, 0.3), 0px 1px 3px 1px rgba(60, 64, 67, 0.15);\n",
              "      fill: #174EA6;\n",
              "    }\n",
              "\n",
              "    [theme=dark] .colab-df-convert {\n",
              "      background-color: #3B4455;\n",
              "      fill: #D2E3FC;\n",
              "    }\n",
              "\n",
              "    [theme=dark] .colab-df-convert:hover {\n",
              "      background-color: #434B5C;\n",
              "      box-shadow: 0px 1px 3px 1px rgba(0, 0, 0, 0.15);\n",
              "      filter: drop-shadow(0px 1px 2px rgba(0, 0, 0, 0.3));\n",
              "      fill: #FFFFFF;\n",
              "    }\n",
              "  </style>\n",
              "\n",
              "      <script>\n",
              "        const buttonEl =\n",
              "          document.querySelector('#df-b1983cc4-6fb8-4dd3-911c-8a6e57bbad49 button.colab-df-convert');\n",
              "        buttonEl.style.display =\n",
              "          google.colab.kernel.accessAllowed ? 'block' : 'none';\n",
              "\n",
              "        async function convertToInteractive(key) {\n",
              "          const element = document.querySelector('#df-b1983cc4-6fb8-4dd3-911c-8a6e57bbad49');\n",
              "          const dataTable =\n",
              "            await google.colab.kernel.invokeFunction('convertToInteractive',\n",
              "                                                     [key], {});\n",
              "          if (!dataTable) return;\n",
              "\n",
              "          const docLinkHtml = 'Like what you see? Visit the ' +\n",
              "            '<a target=\"_blank\" href=https://colab.research.google.com/notebooks/data_table.ipynb>data table notebook</a>'\n",
              "            + ' to learn more about interactive tables.';\n",
              "          element.innerHTML = '';\n",
              "          dataTable['output_type'] = 'display_data';\n",
              "          await google.colab.output.renderOutput(dataTable, element);\n",
              "          const docLink = document.createElement('div');\n",
              "          docLink.innerHTML = docLinkHtml;\n",
              "          element.appendChild(docLink);\n",
              "        }\n",
              "      </script>\n",
              "    </div>\n",
              "  </div>\n",
              "  "
            ]
          },
          "metadata": {},
          "execution_count": 5
        }
      ],
      "source": [
        "df"
      ]
    },
    {
      "cell_type": "code",
      "execution_count": null,
      "metadata": {
        "id": "3hRvWMqUCYi6"
      },
      "outputs": [],
      "source": [
        "# armazenando os valores de label\n",
        "labelsName = df[\"label\"].unique()"
      ]
    },
    {
      "cell_type": "code",
      "execution_count": null,
      "metadata": {
        "id": "K-cw8EHVgzVw"
      },
      "outputs": [],
      "source": [
        "# dataframe que ira armazenar os valores das features dos calculadas\n",
        "df_trat = pd.DataFrame()"
      ]
    },
    {
      "cell_type": "code",
      "execution_count": null,
      "metadata": {
        "colab": {
          "base_uri": "https://localhost:8080/",
          "height": 488
        },
        "id": "9SJOstrrodWL",
        "outputId": "0e87ee28-973f-4523-dff1-79366a266dc7"
      },
      "outputs": [
        {
          "output_type": "execute_result",
          "data": {
            "text/plain": [
              "        maxX   minX   binX        medX  mediX           varX       desvX  \\\n",
              "0      143.0 -128.0   27.1  -42.970588  -77.0    6320.655838   79.502552   \n",
              "1      -88.0 -143.0    5.5 -109.395349 -105.0     246.339978   15.695221   \n",
              "2       15.0  -61.0    7.6  -24.238095  -30.0     319.795587   17.882829   \n",
              "3      -59.0 -160.0   10.1 -120.176471 -128.0     559.550483   23.654819   \n",
              "4     1053.0 -130.0  118.3  517.697674  631.0  215070.930233  463.757405   \n",
              "...      ...    ...    ...         ...    ...            ...         ...   \n",
              "4389   737.0  621.0   11.6  681.467742  679.0     431.597303   20.774920   \n",
              "4390   804.0  661.0   14.3  730.326531  734.0    1335.016156   36.537873   \n",
              "4391  1078.0  404.0   67.4  756.268293  763.0   23795.501220  154.257905   \n",
              "4392  1126.0  581.0   54.5  771.577465  757.0    7817.676056   88.417623   \n",
              "4393   809.0  705.0   10.4  767.566667  761.0     423.402260   20.576741   \n",
              "\n",
              "            madX    maxY   minY  ...       desvY        madY   maxZ   minZ  \\\n",
              "0      68.980104   896.0  696.0  ...   41.808334   33.126298 -460.0 -691.0   \n",
              "1      13.482964   961.0  843.0  ...   32.402183   28.484586 -159.0 -445.0   \n",
              "2      15.204082  1006.0  951.0  ...   12.633515    9.793651  -10.0 -134.0   \n",
              "3      20.008651  1016.0  851.0  ...   36.453378   28.766003  -58.0 -455.0   \n",
              "4     431.114116   772.0   77.0  ...  170.741533  139.366144  137.0 -835.0   \n",
              "...          ...     ...    ...  ...         ...         ...    ...    ...   \n",
              "4389   16.239854   371.0  271.0  ...   24.780138   20.555671  729.0  619.0   \n",
              "4390   30.211579   421.0  288.0  ...   40.599797   35.099542  700.0  518.0   \n",
              "4391  104.638905   428.0 -146.0  ...  141.282868  112.424747  794.0  315.0   \n",
              "4392   47.450506   465.0   35.0  ...   74.628971   50.536005  726.0  396.0   \n",
              "4393   17.708889   266.0  170.0  ...   28.299024   24.791667  638.0  550.0   \n",
              "\n",
              "      binZ        medZ  mediZ          varZ       desvZ        madZ  \n",
              "0     23.1 -536.161765 -531.0   2895.421203   53.809118   43.117215  \n",
              "1     28.6 -312.511628 -322.0   8310.589147   91.162433   80.174148  \n",
              "2     12.4  -52.738095  -40.5   1344.783391   36.671288   31.379819  \n",
              "3     39.7 -213.500000 -186.5   9542.522388   97.685835   83.250000  \n",
              "4     97.2 -473.325581 -577.0  94687.796235  307.713822  269.156301  \n",
              "...    ...         ...    ...           ...         ...         ...  \n",
              "4389  11.0  673.370968  679.0    912.302750   30.204350   26.528616  \n",
              "4390  18.2  599.265306  588.0   3028.698980   55.033617   46.202416  \n",
              "4391  47.9  623.268293  646.0  10985.351220  104.811026   71.633551  \n",
              "4392  33.0  598.732394  611.0   4019.170221   63.396926   42.271771  \n",
              "4393   8.8  605.983333  612.5    467.948870   21.632126   18.387222  \n",
              "\n",
              "[4394 rows x 24 columns]"
            ],
            "text/html": [
              "\n",
              "  <div id=\"df-da201f70-c83b-4ab7-bf8d-cc907c77c50d\">\n",
              "    <div class=\"colab-df-container\">\n",
              "      <div>\n",
              "<style scoped>\n",
              "    .dataframe tbody tr th:only-of-type {\n",
              "        vertical-align: middle;\n",
              "    }\n",
              "\n",
              "    .dataframe tbody tr th {\n",
              "        vertical-align: top;\n",
              "    }\n",
              "\n",
              "    .dataframe thead th {\n",
              "        text-align: right;\n",
              "    }\n",
              "</style>\n",
              "<table border=\"1\" class=\"dataframe\">\n",
              "  <thead>\n",
              "    <tr style=\"text-align: right;\">\n",
              "      <th></th>\n",
              "      <th>maxX</th>\n",
              "      <th>minX</th>\n",
              "      <th>binX</th>\n",
              "      <th>medX</th>\n",
              "      <th>mediX</th>\n",
              "      <th>varX</th>\n",
              "      <th>desvX</th>\n",
              "      <th>madX</th>\n",
              "      <th>maxY</th>\n",
              "      <th>minY</th>\n",
              "      <th>...</th>\n",
              "      <th>desvY</th>\n",
              "      <th>madY</th>\n",
              "      <th>maxZ</th>\n",
              "      <th>minZ</th>\n",
              "      <th>binZ</th>\n",
              "      <th>medZ</th>\n",
              "      <th>mediZ</th>\n",
              "      <th>varZ</th>\n",
              "      <th>desvZ</th>\n",
              "      <th>madZ</th>\n",
              "    </tr>\n",
              "  </thead>\n",
              "  <tbody>\n",
              "    <tr>\n",
              "      <th>0</th>\n",
              "      <td>143.0</td>\n",
              "      <td>-128.0</td>\n",
              "      <td>27.1</td>\n",
              "      <td>-42.970588</td>\n",
              "      <td>-77.0</td>\n",
              "      <td>6320.655838</td>\n",
              "      <td>79.502552</td>\n",
              "      <td>68.980104</td>\n",
              "      <td>896.0</td>\n",
              "      <td>696.0</td>\n",
              "      <td>...</td>\n",
              "      <td>41.808334</td>\n",
              "      <td>33.126298</td>\n",
              "      <td>-460.0</td>\n",
              "      <td>-691.0</td>\n",
              "      <td>23.1</td>\n",
              "      <td>-536.161765</td>\n",
              "      <td>-531.0</td>\n",
              "      <td>2895.421203</td>\n",
              "      <td>53.809118</td>\n",
              "      <td>43.117215</td>\n",
              "    </tr>\n",
              "    <tr>\n",
              "      <th>1</th>\n",
              "      <td>-88.0</td>\n",
              "      <td>-143.0</td>\n",
              "      <td>5.5</td>\n",
              "      <td>-109.395349</td>\n",
              "      <td>-105.0</td>\n",
              "      <td>246.339978</td>\n",
              "      <td>15.695221</td>\n",
              "      <td>13.482964</td>\n",
              "      <td>961.0</td>\n",
              "      <td>843.0</td>\n",
              "      <td>...</td>\n",
              "      <td>32.402183</td>\n",
              "      <td>28.484586</td>\n",
              "      <td>-159.0</td>\n",
              "      <td>-445.0</td>\n",
              "      <td>28.6</td>\n",
              "      <td>-312.511628</td>\n",
              "      <td>-322.0</td>\n",
              "      <td>8310.589147</td>\n",
              "      <td>91.162433</td>\n",
              "      <td>80.174148</td>\n",
              "    </tr>\n",
              "    <tr>\n",
              "      <th>2</th>\n",
              "      <td>15.0</td>\n",
              "      <td>-61.0</td>\n",
              "      <td>7.6</td>\n",
              "      <td>-24.238095</td>\n",
              "      <td>-30.0</td>\n",
              "      <td>319.795587</td>\n",
              "      <td>17.882829</td>\n",
              "      <td>15.204082</td>\n",
              "      <td>1006.0</td>\n",
              "      <td>951.0</td>\n",
              "      <td>...</td>\n",
              "      <td>12.633515</td>\n",
              "      <td>9.793651</td>\n",
              "      <td>-10.0</td>\n",
              "      <td>-134.0</td>\n",
              "      <td>12.4</td>\n",
              "      <td>-52.738095</td>\n",
              "      <td>-40.5</td>\n",
              "      <td>1344.783391</td>\n",
              "      <td>36.671288</td>\n",
              "      <td>31.379819</td>\n",
              "    </tr>\n",
              "    <tr>\n",
              "      <th>3</th>\n",
              "      <td>-59.0</td>\n",
              "      <td>-160.0</td>\n",
              "      <td>10.1</td>\n",
              "      <td>-120.176471</td>\n",
              "      <td>-128.0</td>\n",
              "      <td>559.550483</td>\n",
              "      <td>23.654819</td>\n",
              "      <td>20.008651</td>\n",
              "      <td>1016.0</td>\n",
              "      <td>851.0</td>\n",
              "      <td>...</td>\n",
              "      <td>36.453378</td>\n",
              "      <td>28.766003</td>\n",
              "      <td>-58.0</td>\n",
              "      <td>-455.0</td>\n",
              "      <td>39.7</td>\n",
              "      <td>-213.500000</td>\n",
              "      <td>-186.5</td>\n",
              "      <td>9542.522388</td>\n",
              "      <td>97.685835</td>\n",
              "      <td>83.250000</td>\n",
              "    </tr>\n",
              "    <tr>\n",
              "      <th>4</th>\n",
              "      <td>1053.0</td>\n",
              "      <td>-130.0</td>\n",
              "      <td>118.3</td>\n",
              "      <td>517.697674</td>\n",
              "      <td>631.0</td>\n",
              "      <td>215070.930233</td>\n",
              "      <td>463.757405</td>\n",
              "      <td>431.114116</td>\n",
              "      <td>772.0</td>\n",
              "      <td>77.0</td>\n",
              "      <td>...</td>\n",
              "      <td>170.741533</td>\n",
              "      <td>139.366144</td>\n",
              "      <td>137.0</td>\n",
              "      <td>-835.0</td>\n",
              "      <td>97.2</td>\n",
              "      <td>-473.325581</td>\n",
              "      <td>-577.0</td>\n",
              "      <td>94687.796235</td>\n",
              "      <td>307.713822</td>\n",
              "      <td>269.156301</td>\n",
              "    </tr>\n",
              "    <tr>\n",
              "      <th>...</th>\n",
              "      <td>...</td>\n",
              "      <td>...</td>\n",
              "      <td>...</td>\n",
              "      <td>...</td>\n",
              "      <td>...</td>\n",
              "      <td>...</td>\n",
              "      <td>...</td>\n",
              "      <td>...</td>\n",
              "      <td>...</td>\n",
              "      <td>...</td>\n",
              "      <td>...</td>\n",
              "      <td>...</td>\n",
              "      <td>...</td>\n",
              "      <td>...</td>\n",
              "      <td>...</td>\n",
              "      <td>...</td>\n",
              "      <td>...</td>\n",
              "      <td>...</td>\n",
              "      <td>...</td>\n",
              "      <td>...</td>\n",
              "      <td>...</td>\n",
              "    </tr>\n",
              "    <tr>\n",
              "      <th>4389</th>\n",
              "      <td>737.0</td>\n",
              "      <td>621.0</td>\n",
              "      <td>11.6</td>\n",
              "      <td>681.467742</td>\n",
              "      <td>679.0</td>\n",
              "      <td>431.597303</td>\n",
              "      <td>20.774920</td>\n",
              "      <td>16.239854</td>\n",
              "      <td>371.0</td>\n",
              "      <td>271.0</td>\n",
              "      <td>...</td>\n",
              "      <td>24.780138</td>\n",
              "      <td>20.555671</td>\n",
              "      <td>729.0</td>\n",
              "      <td>619.0</td>\n",
              "      <td>11.0</td>\n",
              "      <td>673.370968</td>\n",
              "      <td>679.0</td>\n",
              "      <td>912.302750</td>\n",
              "      <td>30.204350</td>\n",
              "      <td>26.528616</td>\n",
              "    </tr>\n",
              "    <tr>\n",
              "      <th>4390</th>\n",
              "      <td>804.0</td>\n",
              "      <td>661.0</td>\n",
              "      <td>14.3</td>\n",
              "      <td>730.326531</td>\n",
              "      <td>734.0</td>\n",
              "      <td>1335.016156</td>\n",
              "      <td>36.537873</td>\n",
              "      <td>30.211579</td>\n",
              "      <td>421.0</td>\n",
              "      <td>288.0</td>\n",
              "      <td>...</td>\n",
              "      <td>40.599797</td>\n",
              "      <td>35.099542</td>\n",
              "      <td>700.0</td>\n",
              "      <td>518.0</td>\n",
              "      <td>18.2</td>\n",
              "      <td>599.265306</td>\n",
              "      <td>588.0</td>\n",
              "      <td>3028.698980</td>\n",
              "      <td>55.033617</td>\n",
              "      <td>46.202416</td>\n",
              "    </tr>\n",
              "    <tr>\n",
              "      <th>4391</th>\n",
              "      <td>1078.0</td>\n",
              "      <td>404.0</td>\n",
              "      <td>67.4</td>\n",
              "      <td>756.268293</td>\n",
              "      <td>763.0</td>\n",
              "      <td>23795.501220</td>\n",
              "      <td>154.257905</td>\n",
              "      <td>104.638905</td>\n",
              "      <td>428.0</td>\n",
              "      <td>-146.0</td>\n",
              "      <td>...</td>\n",
              "      <td>141.282868</td>\n",
              "      <td>112.424747</td>\n",
              "      <td>794.0</td>\n",
              "      <td>315.0</td>\n",
              "      <td>47.9</td>\n",
              "      <td>623.268293</td>\n",
              "      <td>646.0</td>\n",
              "      <td>10985.351220</td>\n",
              "      <td>104.811026</td>\n",
              "      <td>71.633551</td>\n",
              "    </tr>\n",
              "    <tr>\n",
              "      <th>4392</th>\n",
              "      <td>1126.0</td>\n",
              "      <td>581.0</td>\n",
              "      <td>54.5</td>\n",
              "      <td>771.577465</td>\n",
              "      <td>757.0</td>\n",
              "      <td>7817.676056</td>\n",
              "      <td>88.417623</td>\n",
              "      <td>47.450506</td>\n",
              "      <td>465.0</td>\n",
              "      <td>35.0</td>\n",
              "      <td>...</td>\n",
              "      <td>74.628971</td>\n",
              "      <td>50.536005</td>\n",
              "      <td>726.0</td>\n",
              "      <td>396.0</td>\n",
              "      <td>33.0</td>\n",
              "      <td>598.732394</td>\n",
              "      <td>611.0</td>\n",
              "      <td>4019.170221</td>\n",
              "      <td>63.396926</td>\n",
              "      <td>42.271771</td>\n",
              "    </tr>\n",
              "    <tr>\n",
              "      <th>4393</th>\n",
              "      <td>809.0</td>\n",
              "      <td>705.0</td>\n",
              "      <td>10.4</td>\n",
              "      <td>767.566667</td>\n",
              "      <td>761.0</td>\n",
              "      <td>423.402260</td>\n",
              "      <td>20.576741</td>\n",
              "      <td>17.708889</td>\n",
              "      <td>266.0</td>\n",
              "      <td>170.0</td>\n",
              "      <td>...</td>\n",
              "      <td>28.299024</td>\n",
              "      <td>24.791667</td>\n",
              "      <td>638.0</td>\n",
              "      <td>550.0</td>\n",
              "      <td>8.8</td>\n",
              "      <td>605.983333</td>\n",
              "      <td>612.5</td>\n",
              "      <td>467.948870</td>\n",
              "      <td>21.632126</td>\n",
              "      <td>18.387222</td>\n",
              "    </tr>\n",
              "  </tbody>\n",
              "</table>\n",
              "<p>4394 rows × 24 columns</p>\n",
              "</div>\n",
              "      <button class=\"colab-df-convert\" onclick=\"convertToInteractive('df-da201f70-c83b-4ab7-bf8d-cc907c77c50d')\"\n",
              "              title=\"Convert this dataframe to an interactive table.\"\n",
              "              style=\"display:none;\">\n",
              "        \n",
              "  <svg xmlns=\"http://www.w3.org/2000/svg\" height=\"24px\"viewBox=\"0 0 24 24\"\n",
              "       width=\"24px\">\n",
              "    <path d=\"M0 0h24v24H0V0z\" fill=\"none\"/>\n",
              "    <path d=\"M18.56 5.44l.94 2.06.94-2.06 2.06-.94-2.06-.94-.94-2.06-.94 2.06-2.06.94zm-11 1L8.5 8.5l.94-2.06 2.06-.94-2.06-.94L8.5 2.5l-.94 2.06-2.06.94zm10 10l.94 2.06.94-2.06 2.06-.94-2.06-.94-.94-2.06-.94 2.06-2.06.94z\"/><path d=\"M17.41 7.96l-1.37-1.37c-.4-.4-.92-.59-1.43-.59-.52 0-1.04.2-1.43.59L10.3 9.45l-7.72 7.72c-.78.78-.78 2.05 0 2.83L4 21.41c.39.39.9.59 1.41.59.51 0 1.02-.2 1.41-.59l7.78-7.78 2.81-2.81c.8-.78.8-2.07 0-2.86zM5.41 20L4 18.59l7.72-7.72 1.47 1.35L5.41 20z\"/>\n",
              "  </svg>\n",
              "      </button>\n",
              "      \n",
              "  <style>\n",
              "    .colab-df-container {\n",
              "      display:flex;\n",
              "      flex-wrap:wrap;\n",
              "      gap: 12px;\n",
              "    }\n",
              "\n",
              "    .colab-df-convert {\n",
              "      background-color: #E8F0FE;\n",
              "      border: none;\n",
              "      border-radius: 50%;\n",
              "      cursor: pointer;\n",
              "      display: none;\n",
              "      fill: #1967D2;\n",
              "      height: 32px;\n",
              "      padding: 0 0 0 0;\n",
              "      width: 32px;\n",
              "    }\n",
              "\n",
              "    .colab-df-convert:hover {\n",
              "      background-color: #E2EBFA;\n",
              "      box-shadow: 0px 1px 2px rgba(60, 64, 67, 0.3), 0px 1px 3px 1px rgba(60, 64, 67, 0.15);\n",
              "      fill: #174EA6;\n",
              "    }\n",
              "\n",
              "    [theme=dark] .colab-df-convert {\n",
              "      background-color: #3B4455;\n",
              "      fill: #D2E3FC;\n",
              "    }\n",
              "\n",
              "    [theme=dark] .colab-df-convert:hover {\n",
              "      background-color: #434B5C;\n",
              "      box-shadow: 0px 1px 3px 1px rgba(0, 0, 0, 0.15);\n",
              "      filter: drop-shadow(0px 1px 2px rgba(0, 0, 0, 0.3));\n",
              "      fill: #FFFFFF;\n",
              "    }\n",
              "  </style>\n",
              "\n",
              "      <script>\n",
              "        const buttonEl =\n",
              "          document.querySelector('#df-da201f70-c83b-4ab7-bf8d-cc907c77c50d button.colab-df-convert');\n",
              "        buttonEl.style.display =\n",
              "          google.colab.kernel.accessAllowed ? 'block' : 'none';\n",
              "\n",
              "        async function convertToInteractive(key) {\n",
              "          const element = document.querySelector('#df-da201f70-c83b-4ab7-bf8d-cc907c77c50d');\n",
              "          const dataTable =\n",
              "            await google.colab.kernel.invokeFunction('convertToInteractive',\n",
              "                                                     [key], {});\n",
              "          if (!dataTable) return;\n",
              "\n",
              "          const docLinkHtml = 'Like what you see? Visit the ' +\n",
              "            '<a target=\"_blank\" href=https://colab.research.google.com/notebooks/data_table.ipynb>data table notebook</a>'\n",
              "            + ' to learn more about interactive tables.';\n",
              "          element.innerHTML = '';\n",
              "          dataTable['output_type'] = 'display_data';\n",
              "          await google.colab.output.renderOutput(dataTable, element);\n",
              "          const docLink = document.createElement('div');\n",
              "          docLink.innerHTML = docLinkHtml;\n",
              "          element.appendChild(docLink);\n",
              "        }\n",
              "      </script>\n",
              "    </div>\n",
              "  </div>\n",
              "  "
            ]
          },
          "metadata": {},
          "execution_count": 8
        }
      ],
      "source": [
        "# tempo de execução médio do código: 9 minutos\n",
        "# for de iteração de cada label do dataframe\n",
        "for lb in range(0, len(labelsName)):\n",
        "  # tratando os dados: separando as linhas de cada label, split do ultimo numero da janela, retirando a coluna antiga da janela e inserindo a nova, armazenando os valores de cada janela\n",
        "  dfSplited = df[df[\"label\"] == labelsName[lb]]\n",
        "  lastNDfSplited = dfSplited[\"seg\"].squeeze()\n",
        "  lastNDfSplited = lastNDfSplited.str.rsplit(\"-\", n=1, expand=True)\n",
        "  lastNDfSplited.rename(columns={0: 'seg', 1: 'random'}, inplace=True)\n",
        "  dfSplited = dfSplited.drop(columns=['seg'])\n",
        "  dfSplited = pd.concat([dfSplited, lastNDfSplited], axis=1)\n",
        "  dfSplited = dfSplited[['x', 'y', 'z', 'label', 'seg', 'random', 'suspicious']]\n",
        "  windowsDfSplited = dfSplited[\"random\"].unique()\n",
        "\n",
        "  cont = 0\n",
        "\n",
        "  # for de iteração de cada janela de cada label do dataframe\n",
        "  for window in range(len(df_trat), len(df_trat) + len(windowsDfSplited)):\n",
        "    # calculando as features: maximo, minimo, binomial, media, mediana, variancia, desvp, mad\n",
        "    df_trat.loc[window, 'maxX'] = dfSplited[dfSplited.random == windowsDfSplited[cont]].x.max()\n",
        "    df_trat.loc[window, 'minX'] = dfSplited[dfSplited.random == windowsDfSplited[cont]].x.min()\n",
        "    df_trat.loc[window, 'binX'] = (dfSplited[dfSplited.random == windowsDfSplited[cont]].x.max() - dfSplited[dfSplited.random == windowsDfSplited[cont]].x.min()) / 10\n",
        "    df_trat.loc[window, 'medX'] = dfSplited[dfSplited.random == windowsDfSplited[cont]].x.mean()\n",
        "    df_trat.loc[window, 'mediX'] = dfSplited[dfSplited.random == windowsDfSplited[cont]].x.median()\n",
        "    df_trat.loc[window, 'varX'] = dfSplited[dfSplited.random == windowsDfSplited[cont]].x.var()\n",
        "    df_trat.loc[window, 'desvX'] = dfSplited[dfSplited.random == windowsDfSplited[cont]].x.std()\n",
        "    df_trat.loc[window, 'madX'] = dfSplited[dfSplited.random == windowsDfSplited[cont]].x.mad()\n",
        "\n",
        "    df_trat.loc[window, 'maxY'] = dfSplited[dfSplited.random == windowsDfSplited[cont]].y.max()\n",
        "    df_trat.loc[window, 'minY'] = dfSplited[dfSplited.random == windowsDfSplited[cont]].y.min()\n",
        "    df_trat.loc[window, 'binnY'] = (dfSplited[dfSplited.random == windowsDfSplited[cont]].y.max() - dfSplited[dfSplited.random == windowsDfSplited[cont]].y.min()) / 10\n",
        "    df_trat.loc[window, 'medY'] = dfSplited[dfSplited.random == windowsDfSplited[cont]].y.mean()\n",
        "    df_trat.loc[window, 'mediY'] = dfSplited[dfSplited.random == windowsDfSplited[cont]].y.median()\n",
        "    df_trat.loc[window, 'varY'] = dfSplited[dfSplited.random == windowsDfSplited[cont]].y.var()\n",
        "    df_trat.loc[window, 'desvY'] = dfSplited[dfSplited.random == windowsDfSplited[cont]].y.std()\n",
        "    df_trat.loc[window, 'madY'] = dfSplited[dfSplited.random == windowsDfSplited[cont]].y.mad()\n",
        "\n",
        "    df_trat.loc[window, 'maxZ'] = dfSplited[dfSplited.random == windowsDfSplited[cont]].z.max()\n",
        "    df_trat.loc[window, 'minZ'] = dfSplited[dfSplited.random == windowsDfSplited[cont]].z.min()\n",
        "    df_trat.loc[window, 'binZ'] = (dfSplited[dfSplited.random == windowsDfSplited[cont]].z.max() - dfSplited[dfSplited.random == windowsDfSplited[cont]].z.min()) / 10\n",
        "    df_trat.loc[window, 'medZ'] = dfSplited[dfSplited.random == windowsDfSplited[cont]].z.mean()\n",
        "    df_trat.loc[window, 'mediZ'] = dfSplited[dfSplited.random == windowsDfSplited[cont]].z.median()\n",
        "    df_trat.loc[window, 'varZ'] = dfSplited[dfSplited.random == windowsDfSplited[cont]].z.var()\n",
        "    df_trat.loc[window, 'desvZ'] = dfSplited[dfSplited.random == windowsDfSplited[cont]].z.std()\n",
        "    df_trat.loc[window, 'madZ'] = dfSplited[dfSplited.random == windowsDfSplited[cont]].z.mad()\n",
        "\n",
        "    cont+=1\n",
        "\n",
        "df_trat"
      ]
    },
    {
      "cell_type": "code",
      "execution_count": null,
      "metadata": {
        "id": "-xhVoD-tvoln"
      },
      "outputs": [],
      "source": [
        "# nomeando a coluna label com as respectivas labels das linhas do dataframe das features\n",
        "df_trat.loc[0:170, 'label'] = 'walk'\n",
        "df_trat.loc[171:1423, 'label'] = 'bweep' \n",
        "df_trat.loc[1424:2007, 'label'] = 'clean'\n",
        "df_trat.loc[2008:2970, 'label'] = 'sweep' \n",
        "df_trat.loc[2971:3840, 'label'] = 'daily'\n",
        "df_trat.loc[3841:4316, 'label'] = 'dump'\n",
        "df_trat.loc[4317:4393, 'label'] = 'run'"
      ]
    },
    {
      "cell_type": "code",
      "execution_count": null,
      "metadata": {
        "id": "lUwxzY6UlLAX"
      },
      "outputs": [],
      "source": [
        "# arredondando os valores das features\n",
        "df_trat = df_trat.round(2)"
      ]
    },
    {
      "cell_type": "markdown",
      "metadata": {
        "id": "Ime4aiILNaiL"
      },
      "source": [
        "## Tratamento"
      ]
    },
    {
      "cell_type": "markdown",
      "metadata": {
        "id": "zRaIujeP1ZKF"
      },
      "source": [
        "bweep = 0\n",
        "clean = 1\n",
        "daily = 2\n",
        "dump = 3\n",
        "run = 4\n",
        "sweep = 5\n",
        "walk = 6"
      ]
    },
    {
      "cell_type": "markdown",
      "metadata": {
        "id": "oJxEYnh9bj0k"
      },
      "source": [
        "pallet: https://coolors.co/001219-005f73-0a9396-94d2bd-e9d8a6-ee9b00-ca6702-bb3e03-ae2012-9b2226"
      ]
    },
    {
      "cell_type": "code",
      "execution_count": null,
      "metadata": {
        "id": "6RPsgXVCNDKu"
      },
      "outputs": [],
      "source": [
        "df_trat[\"label\"] = df_trat[\"label\"].astype('category')\n",
        "df_trat[\"label\"] = df_trat[\"label\"].cat.codes"
      ]
    },
    {
      "cell_type": "code",
      "execution_count": null,
      "metadata": {
        "id": "Vc2wK7xYNeWy"
      },
      "outputs": [],
      "source": [
        "X = df_trat.iloc[:,0:24].values\n",
        "Y = df_trat.iloc[:,24:25].values"
      ]
    },
    {
      "cell_type": "code",
      "execution_count": null,
      "metadata": {
        "id": "a7sw04XcX48L"
      },
      "outputs": [],
      "source": [
        "smt = SMOTE()"
      ]
    },
    {
      "cell_type": "code",
      "execution_count": null,
      "metadata": {
        "id": "5935XN_9X48L"
      },
      "outputs": [],
      "source": [
        "X, Y = smt.fit_resample(X, Y)"
      ]
    },
    {
      "cell_type": "code",
      "execution_count": null,
      "metadata": {
        "colab": {
          "base_uri": "https://localhost:8080/",
          "height": 404
        },
        "id": "uvJ12rhCKQnl",
        "outputId": "d71a67b2-3f38-4c16-8a6e-af54f9bd8e53"
      },
      "outputs": [
        {
          "output_type": "display_data",
          "data": {
            "text/plain": [
              "<Figure size 864x432 with 1 Axes>"
            ],
            "image/png": "[encoded data removed]"
          },
          "metadata": {
            "needs_background": "light"
          }
        }
      ],
      "source": [
        "#Quantidades\n",
        "qtd0 = [len(df_trat[df_trat[\"label\"] == 0]), len(X[Y == 0])]\n",
        "qtd1 = [len(df_trat[df_trat[\"label\"] == 1]), len(X[Y == 1])]\n",
        "qtd2 = [len(df_trat[df_trat[\"label\"] == 2]), len(X[Y == 2])]\n",
        "qtd3 = [len(df_trat[df_trat[\"label\"] == 3]), len(X[Y == 3])]\n",
        "qtd4 = [len(df_trat[df_trat[\"label\"] == 4]), len(X[Y == 4])]\n",
        "qtd5 = [len(df_trat[df_trat[\"label\"] == 5]), len(X[Y == 5])]\n",
        "qtd6 = [len(df_trat[df_trat[\"label\"] == 6]), len(X[Y == 6])]\n",
        "\n",
        "# Tamanho das barras\n",
        "barWidth = 0.1\n",
        "\n",
        "# Tamanho da figura\n",
        "plt.figure(figsize=(12,6))\n",
        "\n",
        "# Posição das barras\n",
        "r0 = np.arange(len(qtd0))\n",
        "r1 = [x + barWidth for x in r0]\n",
        "r2 = [x + barWidth for x in r1]\n",
        "r3 = [x + barWidth for x in r2]\n",
        "r4 = [x + barWidth for x in r3]\n",
        "r5 = [x + barWidth for x in r4]\n",
        "r6 = [x + barWidth for x in r5]\n",
        "\n",
        "# Criando as barras\n",
        "plt.bar(r0, qtd0, color=\"#005f73\", width=barWidth, label=\"Bweep\")\n",
        "plt.bar(r1, qtd1, color=\"#0a9396\", width=barWidth, label=\"Clean\")\n",
        "plt.bar(r2, qtd2, color=\"#94d2bd\", width=barWidth, label=\"Daily\")\n",
        "plt.bar(r3, qtd3, color=\"#e9d8a6\", width=barWidth, label=\"Dump\")\n",
        "plt.bar(r4, qtd4, color=\"#ee9b00\", width=barWidth, label=\"Run\")\n",
        "plt.bar(r5, qtd5, color=\"#ca6702\", width=barWidth, label=\"Sweep\")\n",
        "plt.bar(r6, qtd6, color=\"#bb3e03\", width=barWidth, label=\"Walk\")\n",
        "\n",
        "# Adicionando legenda as barras\n",
        "plt.xlabel('Atividades')\n",
        "plt.xticks([r + barWidth for r in range(len(qtd0))], ['Desbalanceados', 'Balanceados'])\n",
        "plt.ylabel('Amostras')\n",
        "plt.title('Comparação quantidade de amostras Antes e Pós Balanceamento')\n",
        "\n",
        "# Legenda e exibindo o gráfico\n",
        "plt.legend()\n",
        "plt.show()"
      ]
    },
    {
      "cell_type": "code",
      "execution_count": null,
      "metadata": {
        "id": "F8RUcP7BN6K0"
      },
      "outputs": [],
      "source": [
        "X_train, X_test, y_train, y_test = train_test_split(\n",
        "    X, \n",
        "    Y, \n",
        "    test_size=0.3,\n",
        "    random_state=10\n",
        ")"
      ]
    },
    {
      "cell_type": "code",
      "execution_count": null,
      "metadata": {
        "id": "rSLjbm4iEFQK"
      },
      "outputs": [],
      "source": [
        "scaler = StandardScaler()\n",
        "scaler.fit(X_train)\n",
        "X_train = scaler.transform(X_train)\n",
        "X_test = scaler.transform(X_test)"
      ]
    },
    {
      "cell_type": "markdown",
      "metadata": {
        "id": "hx1fDWygM3j6"
      },
      "source": [
        "## Random Forest"
      ]
    },
    {
      "cell_type": "code",
      "execution_count": null,
      "metadata": {
        "id": "WNeHlqQhJCIb"
      },
      "outputs": [],
      "source": [
        "Rf = RandomForestClassifier(n_estimators = 200)"
      ]
    },
    {
      "cell_type": "code",
      "execution_count": null,
      "metadata": {
        "colab": {
          "base_uri": "https://localhost:8080/"
        },
        "id": "PcnPikqhJOnE",
        "outputId": "d017dd89-3084-49ff-bc24-18872bb327b3"
      },
      "outputs": [
        {
          "output_type": "execute_result",
          "data": {
            "text/plain": [
              "RandomForestClassifier(n_estimators=200)"
            ]
          },
          "metadata": {},
          "execution_count": 19
        }
      ],
      "source": [
        "Rf.fit(X_train, y_train)"
      ]
    },
    {
      "cell_type": "code",
      "execution_count": null,
      "metadata": {
        "id": "GL9oHlB6J32N"
      },
      "outputs": [],
      "source": [
        "prediction = Rf.predict(X_test)"
      ]
    },
    {
      "cell_type": "code",
      "execution_count": null,
      "metadata": {
        "colab": {
          "base_uri": "https://localhost:8080/"
        },
        "id": "rveCTyszPffs",
        "outputId": "75608cbc-6af0-4e66-e70b-73bef6842ea4"
      },
      "outputs": [
        {
          "output_type": "stream",
          "name": "stdout",
          "text": [
            "Accuracy: 0.9365501519756839\n"
          ]
        }
      ],
      "source": [
        "print(\"Accuracy:\",accuracy_score(y_test, prediction))"
      ]
    },
    {
      "cell_type": "code",
      "execution_count": null,
      "metadata": {
        "colab": {
          "base_uri": "https://localhost:8080/"
        },
        "id": "p6c_gC9EQavk",
        "outputId": "68dd63d5-3476-4bd9-c4fc-a537d25ee6fd"
      },
      "outputs": [
        {
          "output_type": "execute_result",
          "data": {
            "text/plain": [
              "0.9360790933249747"
            ]
          },
          "metadata": {},
          "execution_count": 22
        }
      ],
      "source": [
        "f1_score(\n",
        "    y_test, \n",
        "    prediction, \n",
        "    average='weighted'\n",
        ") "
      ]
    },
    {
      "cell_type": "code",
      "execution_count": null,
      "metadata": {
        "id": "mzMC1GP2Qavk"
      },
      "outputs": [],
      "source": [
        "labels = df_trat[\"label\"].unique()"
      ]
    },
    {
      "cell_type": "code",
      "execution_count": null,
      "metadata": {
        "id": "Txax89CWQavl"
      },
      "outputs": [],
      "source": [
        "labelsName.sort()\n",
        "labels.sort()"
      ]
    },
    {
      "cell_type": "code",
      "execution_count": null,
      "metadata": {
        "colab": {
          "base_uri": "https://localhost:8080/",
          "height": 710
        },
        "id": "fcslvzZ0Qavl",
        "outputId": "d77cd568-9a7f-4075-b49d-454f4a80a10d"
      },
      "outputs": [
        {
          "output_type": "stream",
          "name": "stdout",
          "text": [
            "              precision    recall  f1-score   support\n",
            "\n",
            "           0       0.94      0.83      0.88       387\n",
            "           1       0.90      0.94      0.92       383\n",
            "           2       0.93      0.91      0.92       384\n",
            "           3       0.91      0.95      0.93       374\n",
            "           4       0.98      0.98      0.98       364\n",
            "           5       0.93      0.96      0.94       361\n",
            "           6       0.98      0.99      0.98       379\n",
            "\n",
            "    accuracy                           0.94      2632\n",
            "   macro avg       0.94      0.94      0.94      2632\n",
            "weighted avg       0.94      0.94      0.94      2632\n",
            "\n",
            "Confusion matrix, without normalization\n",
            "[[321  22   8  19   0  14   3]\n",
            " [  4 360   8   4   4   3   0]\n",
            " [  9   9 350   5   2   6   3]\n",
            " [  3   4   7 354   0   4   2]\n",
            " [  0   5   0   1 357   0   1]\n",
            " [  5   2   1   6   0 347   0]\n",
            " [  1   0   2   0   0   0 376]]\n"
          ]
        },
        {
          "output_type": "display_data",
          "data": {
            "text/plain": [
              "<Figure size 432x288 with 2 Axes>"
            ],
            "image/png": "[encoded data removed]"
          },
          "metadata": {
            "needs_background": "light"
          }
        }
      ],
      "source": [
        "cnf_matrix = confusion_matrix(\n",
        "    y_test, \n",
        "    prediction, \n",
        "    labels=labels.tolist())\n",
        "\n",
        "np.set_printoptions(precision=2)\n",
        "\n",
        "print(classification_report(y_test, prediction))\n",
        "\n",
        "# Plot non-normalized confusion matrix\n",
        "plt.figure()\n",
        "plot_confusion_matrix(\n",
        "    cnf_matrix, \n",
        "    classes=labelsName.tolist(),\n",
        "    normalize= False,  \n",
        "    title='Confusion matrix - Random Forest')"
      ]
    },
    {
      "cell_type": "code",
      "execution_count": null,
      "metadata": {
        "id": "5dYUxtmtvOyL"
      },
      "outputs": [],
      "source": [
        "# validação cruzada\n",
        "num_folds = 5\n",
        "scores = cross_val_score(Rf, X_train, y_train, cv = num_folds)"
      ]
    },
    {
      "cell_type": "code",
      "execution_count": null,
      "metadata": {
        "colab": {
          "base_uri": "https://localhost:8080/"
        },
        "outputId": "970c3b2e-1c9d-48e1-a156-5da166059b4e",
        "id": "Hr1wsZANvOyM"
      },
      "outputs": [
        {
          "output_type": "execute_result",
          "data": {
            "text/plain": [
              "array([0.94, 0.93, 0.94, 0.91, 0.92])"
            ]
          },
          "metadata": {},
          "execution_count": 27
        }
      ],
      "source": [
        "scores"
      ]
    },
    {
      "cell_type": "code",
      "execution_count": null,
      "metadata": {
        "colab": {
          "base_uri": "https://localhost:8080/"
        },
        "outputId": "890c73a7-884d-4133-a2bf-ecfd7262e1ae",
        "id": "wyD1jlpPvOyO"
      },
      "outputs": [
        {
          "output_type": "stream",
          "name": "stdout",
          "text": [
            "0.9356677524429967\n",
            "0.9324104234527687\n",
            "0.9364820846905537\n",
            "0.9136807817589576\n",
            "0.9233903830480847\n"
          ]
        }
      ],
      "source": [
        "for v in scores:\n",
        "  print(v)"
      ]
    },
    {
      "cell_type": "code",
      "execution_count": null,
      "metadata": {
        "colab": {
          "base_uri": "https://localhost:8080/"
        },
        "outputId": "01108709-32d0-4c7d-9e68-60a5896dfdfc",
        "id": "GSm2kJyqvOyO"
      },
      "outputs": [
        {
          "output_type": "execute_result",
          "data": {
            "text/plain": [
              "0.00867119706814122"
            ]
          },
          "metadata": {},
          "execution_count": 29
        }
      ],
      "source": [
        "stdevCross = scores.std()\n",
        "stdevCross"
      ]
    },
    {
      "cell_type": "markdown",
      "metadata": {
        "id": "VDbyW9WB-Dz3"
      },
      "source": [
        "### Avaliação de mudança de atividade"
      ]
    },
    {
      "cell_type": "markdown",
      "metadata": {
        "id": "ezQ7jiN4-SKC"
      },
      "source": [
        "#### Probabilidade única"
      ]
    },
    {
      "cell_type": "code",
      "execution_count": null,
      "metadata": {
        "id": "7yIMe1yOAp9A"
      },
      "outputs": [],
      "source": [
        "copyX_test = X_test\n",
        "copyY_test = y_test"
      ]
    },
    {
      "cell_type": "code",
      "execution_count": null,
      "metadata": {
        "colab": {
          "base_uri": "https://localhost:8080/"
        },
        "id": "0P4nGjKc-CKG",
        "outputId": "18026acc-b6f4-4306-eef3-bc47b360c5f3"
      },
      "outputs": [
        {
          "output_type": "stream",
          "name": "stdout",
          "text": [
            "3\n",
            "2969\n",
            "23210\n",
            "138\n"
          ]
        }
      ],
      "source": [
        "# tempo de execução médio do código: 5 minutos\n",
        "# accuracys = []\n",
        "# FPs = []\n",
        "# FNs = []\n",
        "trues = []\n",
        "predictions = []\n",
        "# for i in np.arange(0.1, 1, 0.1):\n",
        "# labels = [0, 1, 2, 3, 4, 5, 6]\n",
        "labels = df_trat[\"label\"].unique().tolist()\n",
        "\n",
        "TP = 0\n",
        "TN = 0\n",
        "FP = 0\n",
        "FN = 0\n",
        "\n",
        "numbers = []\n",
        "\n",
        "newYtest = []\n",
        "\n",
        "formerLabel = 0\n",
        "formerPrediction = 0\n",
        "\n",
        "lock = 0\n",
        "\n",
        "initialRandomLabel = random.choice(labels) # Label aleatória inicial\n",
        "\n",
        "positionsInitialCopyYTest = np.where(copyY_test == initialRandomLabel) # Todas as posições em que a label inicial aparece\n",
        "positionsCurrentCopyYTest = positionsInitialCopyYTest\n",
        "\n",
        "initialPositionLabel = copyY_test[random.choice(positionsInitialCopyYTest[0])] # Posição aleatória em que a label inicial aparece, essa posição tambem valera para a primeira amostra\n",
        "currentRandomLabel = initialRandomLabel # label atual, no inicio da analise a label inicial é a label atual \n",
        "\n",
        "positionsLabelsHistoric = []\n",
        "\n",
        "\n",
        "initialPrediction = Rf.predict(copyX_test[initialPositionLabel].reshape(1, -1)) # predição da linha inicial da analise\n",
        "currentPrediction = initialPrediction\n",
        "\n",
        "positionsLabelsHistoric.append(initialPositionLabel)\n",
        "\n",
        "\n",
        "# loop da analise que ira iterar cada amostra do conjunto de amostras\n",
        "random.seed(random.randint(1, 100000))\n",
        "while True:\n",
        "  if (FP + TP + TN + FN) == len(copyX_test) * 10:\n",
        "    break\n",
        "  else:\n",
        "    randomNumber = random.random()\n",
        "    numbers.append(randomNumber)\n",
        "\n",
        "    # Analisando nova amostra da mesma atividade \n",
        "    if randomNumber >= 0.005:\n",
        "      NewPositionSameLabel()\n",
        "\n",
        "      if positions == []:\n",
        "        RFnewPredictionSameLabel()\n",
        "      else:\n",
        "        newPositionLabel = random.choice(positions)\n",
        "        positionsLabelsHistoric.append(newPositionLabel)\n",
        "\n",
        "        formerPrediction = currentPrediction\n",
        "\n",
        "        currentPrediction = Rf.predict(copyX_test[newPositionLabel].reshape(1, -1))\n",
        "        if currentPrediction == formerPrediction:\n",
        "          TP = TP + 1\n",
        "          trues.append(formerPrediction[0])\n",
        "          predictions.append(currentPrediction[0])\n",
        "          newYtest.append(0)\n",
        "        else:\n",
        "          FN = FN + 1\n",
        "          trues.append(formerPrediction[0])\n",
        "          predictions.append(currentPrediction[0])\n",
        "          newYtest.append(0)\n",
        "\n",
        "    # Analise de uma nova amostra de atividade diferente\n",
        "    if randomNumber < 0.005:\n",
        "      # armazenando a antiga label e removendo a mesma temporariamente do array de labels\n",
        "      formerLabel = currentRandomLabel\n",
        "      labels.remove(formerLabel)\n",
        "\n",
        "      # Randomizando uma nova label\n",
        "      currentRandomLabel = random.choice(labels)\n",
        "      # NDArray com as posições da nova label e randomização da posição aleatoria\n",
        "      positionsCurrentCopyYTest = np.where(copyY_test == currentRandomLabel)\n",
        "\n",
        "      NewPositionSameLabel()\n",
        "\n",
        "      if positions == []:\n",
        "        RFnewPredictionNewLabel()\n",
        "      else:\n",
        "        newPositionLabel = random.choice(positions)\n",
        "        positionsLabelsHistoric.append(newPositionLabel)\n",
        "\n",
        "        formerPrediction = currentPrediction\n",
        "\n",
        "        currentPrediction = Rf.predict(copyX_test[newPositionLabel].reshape(1, -1))\n",
        "        if currentPrediction == formerPrediction:\n",
        "          FP = FP + 1\n",
        "          trues.append(formerPrediction[0])\n",
        "          predictions.append(currentPrediction[0])\n",
        "          newYtest.append(1)\n",
        "        else:\n",
        "          TN = TN + 1\n",
        "          trues.append(formerPrediction[0])\n",
        "          predictions.append(currentPrediction[0])\n",
        "          newYtest.append(1)\n",
        "\n",
        "        # devolvendo a label antiga ao array de labels\n",
        "        labels.append(formerLabel)\n",
        "\n",
        "print(FP)\n",
        "print(FN)\n",
        "print(TP)\n",
        "print(TN)\n",
        "\n",
        "accuracy = (TP + TN)/(TP + TN + FP + FN)\n",
        "# accuracys.append(accuracy)\n",
        "# FPs.append(FP)\n",
        "# FNs.append(FN)\n"
      ]
    },
    {
      "cell_type": "code",
      "execution_count": null,
      "metadata": {
        "colab": {
          "base_uri": "https://localhost:8080/"
        },
        "id": "6w_0xL_DEDm-",
        "outputId": "b7a4717e-aa8d-464a-eab7-756d76770d7c"
      },
      "outputs": [
        {
          "output_type": "execute_result",
          "data": {
            "text/plain": [
              "0.8870820668693009"
            ]
          },
          "metadata": {},
          "execution_count": 32
        }
      ],
      "source": [
        "accuracy"
      ]
    },
    {
      "cell_type": "code",
      "execution_count": null,
      "metadata": {
        "id": "3SgTnKhxEDm-"
      },
      "outputs": [],
      "source": [
        "labels = df_trat[\"label\"].unique()\n",
        "labels.sort()"
      ]
    },
    {
      "cell_type": "code",
      "execution_count": null,
      "metadata": {
        "colab": {
          "base_uri": "https://localhost:8080/",
          "height": 710
        },
        "id": "t2dZcrenEDm_",
        "outputId": "d8457288-cda8-46af-9da2-4413ad8055ae"
      },
      "outputs": [
        {
          "output_type": "stream",
          "name": "stdout",
          "text": [
            "              precision    recall  f1-score   support\n",
            "\n",
            "           0       0.78      0.78      0.78      3418\n",
            "           1       0.83      0.83      0.83      3376\n",
            "           2       0.83      0.83      0.83      3150\n",
            "           3       0.85      0.85      0.85      3408\n",
            "           4       0.97      0.97      0.97      4354\n",
            "           5       0.88      0.88      0.88      3454\n",
            "           6       0.97      0.97      0.97      5160\n",
            "\n",
            "    accuracy                           0.88     26320\n",
            "   macro avg       0.87      0.87      0.87     26320\n",
            "weighted avg       0.88      0.88      0.88     26320\n",
            "\n",
            "Confusion matrix, without normalization\n",
            "[[2661  198  134  193    4  187   41]\n",
            " [ 197 2809  129   88   95   52    6]\n",
            " [ 131  135 2620  104   23   71   66]\n",
            " [ 195   83  100 2885   14  101   30]\n",
            " [   7   93   25   15 4202    2   10]\n",
            " [ 185   49   76   94    5 3037    8]\n",
            " [  42    9   66   29   11    4 4999]]\n"
          ]
        },
        {
          "output_type": "display_data",
          "data": {
            "text/plain": [
              "<Figure size 432x288 with 2 Axes>"
            ],
            "image/png": "[encoded data removed]"
          },
          "metadata": {
            "needs_background": "light"
          }
        }
      ],
      "source": [
        "cnf_matrix = confusion_matrix(trues, predictions, labels=labels.tolist())\n",
        "np.set_printoptions(precision=2)\n",
        "\n",
        "print (classification_report(trues, predictions))\n",
        "\n",
        "# Plot non-normalized confusion matrix\n",
        "plt.figure()\n",
        "plot_confusion_matrix(cnf_matrix, classes=labelsName.tolist(),normalize= False,  title='Confusion matrix - Fase II')"
      ]
    },
    {
      "cell_type": "code",
      "source": [
        "f1_score(trues, predictions, average='weighted')"
      ],
      "metadata": {
        "colab": {
          "base_uri": "https://localhost:8080/"
        },
        "id": "OR02jmbKuWwt",
        "outputId": "0394862d-3f64-471a-a352-185854c3cc8d"
      },
      "execution_count": null,
      "outputs": [
        {
          "output_type": "execute_result",
          "data": {
            "text/plain": [
              "0.881952887537994"
            ]
          },
          "metadata": {},
          "execution_count": 50
        }
      ]
    },
    {
      "cell_type": "markdown",
      "metadata": {
        "id": "HR6i-ACFjtWj"
      },
      "source": [
        "# KNN"
      ]
    },
    {
      "cell_type": "markdown",
      "metadata": {
        "id": "LSyuwYRdYdFO"
      },
      "source": [
        "## Teste do algoritmo"
      ]
    },
    {
      "cell_type": "code",
      "execution_count": null,
      "metadata": {
        "id": "jYwIXkkDK6fB"
      },
      "outputs": [],
      "source": [
        "knn = KNeighborsClassifier(n_neighbors=3)"
      ]
    },
    {
      "cell_type": "code",
      "execution_count": null,
      "metadata": {
        "colab": {
          "base_uri": "https://localhost:8080/"
        },
        "id": "jSia1u_LMMz4",
        "outputId": "2e1a92b8-7596-4c89-e739-9f9f56694c74"
      },
      "outputs": [
        {
          "output_type": "execute_result",
          "data": {
            "text/plain": [
              "KNeighborsClassifier(n_neighbors=3)"
            ]
          },
          "metadata": {},
          "execution_count": 52
        }
      ],
      "source": [
        "# treinando o modelo\n",
        "knn.fit(X_train, y_train)"
      ]
    },
    {
      "cell_type": "code",
      "execution_count": null,
      "metadata": {
        "id": "iSMrgSM--3i0"
      },
      "outputs": [],
      "source": [
        "# predição dos valores do conjunto de teste\n",
        "y_pred = knn.predict(X_test)"
      ]
    },
    {
      "cell_type": "code",
      "execution_count": null,
      "metadata": {
        "colab": {
          "base_uri": "https://localhost:8080/"
        },
        "id": "FQMx7oLk_rmh",
        "outputId": "af950303-d472-423a-b20b-4833612de357"
      },
      "outputs": [
        {
          "output_type": "stream",
          "name": "stdout",
          "text": [
            "Accuracy: 0.9232522796352584\n"
          ]
        }
      ],
      "source": [
        "print(\"Accuracy:\",accuracy_score(y_test, y_pred))\n",
        "# print(\"Precision Test:\",metrics.precision_score(y_test,y_pred))\n",
        "# print(\"Recall Test:\",metrics.recall_score(y_test,y_pred))"
      ]
    },
    {
      "cell_type": "code",
      "execution_count": null,
      "metadata": {
        "colab": {
          "base_uri": "https://localhost:8080/"
        },
        "id": "dqp7gnhFREdk",
        "outputId": "8b0145bc-c70f-4d18-b1a0-7155527f2c70"
      },
      "outputs": [
        {
          "output_type": "execute_result",
          "data": {
            "text/plain": [
              "0.922676958571045"
            ]
          },
          "metadata": {},
          "execution_count": 55
        }
      ],
      "source": [
        "f1_score(y_test, y_pred, average='weighted') "
      ]
    },
    {
      "cell_type": "code",
      "execution_count": null,
      "metadata": {
        "id": "-wFSCLXLWU0O"
      },
      "outputs": [],
      "source": [
        "labels = df_trat[\"label\"].unique()"
      ]
    },
    {
      "cell_type": "code",
      "execution_count": null,
      "metadata": {
        "id": "pHlsn9P-XEzc"
      },
      "outputs": [],
      "source": [
        "labelsName.sort()\n",
        "labels.sort()"
      ]
    },
    {
      "cell_type": "code",
      "execution_count": null,
      "metadata": {
        "colab": {
          "base_uri": "https://localhost:8080/",
          "height": 710
        },
        "id": "pQLUNWYNcx8r",
        "outputId": "e861f381-9e95-47d4-ff24-a48743bfbb34"
      },
      "outputs": [
        {
          "output_type": "stream",
          "name": "stdout",
          "text": [
            "              precision    recall  f1-score   support\n",
            "\n",
            "           0       0.87      0.83      0.85       387\n",
            "           1       0.91      0.91      0.91       383\n",
            "           2       0.93      0.88      0.90       384\n",
            "           3       0.91      0.92      0.92       374\n",
            "           4       0.97      0.99      0.98       364\n",
            "           5       0.91      0.95      0.93       361\n",
            "           6       0.96      0.99      0.97       379\n",
            "\n",
            "    accuracy                           0.92      2632\n",
            "   macro avg       0.92      0.92      0.92      2632\n",
            "weighted avg       0.92      0.92      0.92      2632\n",
            "\n",
            "Confusion matrix, without normalization\n",
            "[[321  17  10  17   3  15   4]\n",
            " [ 12 348  11   5   5   1   1]\n",
            " [ 14  10 337   5   3   9   6]\n",
            " [ 13   4   3 345   0   8   1]\n",
            " [  0   1   0   1 361   0   1]\n",
            " [  6   1   1   7   0 343   3]\n",
            " [  1   1   2   0   0   0 375]]\n"
          ]
        },
        {
          "output_type": "display_data",
          "data": {
            "text/plain": [
              "<Figure size 432x288 with 2 Axes>"
            ],
            "image/png": "[encoded data removed]"
          },
          "metadata": {
            "needs_background": "light"
          }
        }
      ],
      "source": [
        "cnf_matrix = confusion_matrix(y_test, y_pred, labels=labels.tolist())\n",
        "np.set_printoptions(precision=2)\n",
        "\n",
        "print (classification_report(y_test, y_pred))\n",
        "\n",
        "# Plot non-normalized confusion matrix\n",
        "plt.figure()\n",
        "plot_confusion_matrix(cnf_matrix, classes=labelsName.tolist(),normalize= False,  title='Confusion matrix - KNN')"
      ]
    },
    {
      "cell_type": "code",
      "execution_count": null,
      "metadata": {
        "id": "1T5JGZ0xDLLu"
      },
      "outputs": [],
      "source": [
        "accuracys = []\n",
        "\n",
        "# Calculating error for K values between 1 and 10\n",
        "for i in range(1, 11):  \n",
        "    knn = KNeighborsClassifier(n_neighbors=i)\n",
        "    knn.fit(X_train, y_train)\n",
        "    pred_i = knn.predict(X_test)\n",
        "    accuracys.append(accuracy_score(y_test, pred_i))"
      ]
    },
    {
      "cell_type": "code",
      "execution_count": null,
      "metadata": {
        "colab": {
          "base_uri": "https://localhost:8080/"
        },
        "id": "bXPwcmvUJF5q",
        "outputId": "5aa73b09-4699-473d-d6c8-7dc12d586889"
      },
      "outputs": [
        {
          "output_type": "execute_result",
          "data": {
            "text/plain": [
              "[0.9361702127659575,\n",
              " 0.9297112462006079,\n",
              " 0.9232522796352584,\n",
              " 0.9224924012158054,\n",
              " 0.915273556231003,\n",
              " 0.9194528875379939,\n",
              " 0.9107142857142857,\n",
              " 0.90919452887538,\n",
              " 0.9031155015197568,\n",
              " 0.9046352583586627]"
            ]
          },
          "metadata": {},
          "execution_count": 60
        }
      ],
      "source": [
        "accuracys"
      ]
    },
    {
      "cell_type": "code",
      "execution_count": null,
      "metadata": {
        "id": "n0ZVhHNsuk_q"
      },
      "outputs": [],
      "source": [
        "accuracys = [accuracys[2], accuracys[4], accuracys[6]]"
      ]
    },
    {
      "cell_type": "code",
      "execution_count": null,
      "metadata": {
        "colab": {
          "base_uri": "https://localhost:8080/"
        },
        "id": "XPGtrIa_uxFL",
        "outputId": "dcd49c09-dbbe-4aba-f204-fe05f3953282"
      },
      "outputs": [
        {
          "output_type": "execute_result",
          "data": {
            "text/plain": [
              "[0.9232522796352584, 0.915273556231003, 0.9107142857142857]"
            ]
          },
          "metadata": {},
          "execution_count": 62
        }
      ],
      "source": [
        "accuracys"
      ]
    },
    {
      "cell_type": "code",
      "execution_count": null,
      "metadata": {
        "colab": {
          "base_uri": "https://localhost:8080/",
          "height": 422
        },
        "id": "sWE-A9OQDXcB",
        "outputId": "86cfce68-fc0c-4868-9e40-cfda6e4db092"
      },
      "outputs": [
        {
          "output_type": "execute_result",
          "data": {
            "text/plain": [
              "Text(0, 0.5, 'Accuracy')"
            ]
          },
          "metadata": {},
          "execution_count": 63
        },
        {
          "output_type": "display_data",
          "data": {
            "text/plain": [
              "<Figure size 864x432 with 1 Axes>"
            ],
            "image/png": "[encoded data removed]"
          },
          "metadata": {
            "needs_background": "light"
          }
        }
      ],
      "source": [
        "plt.figure(figsize=(12, 6))  \n",
        "plt.plot([3, 5, 7], accuracys, color='#005f73', linestyle='dashed', marker='o',  \n",
        "         markerfacecolor='#bb3e03', markersize=10)\n",
        "plt.title('Accuracy Rate K Value')  \n",
        "plt.xlabel('K Value')  \n",
        "plt.ylabel('Accuracy')"
      ]
    },
    {
      "cell_type": "code",
      "execution_count": null,
      "metadata": {
        "id": "awlguv_SfHgn"
      },
      "outputs": [],
      "source": [
        "# validação cruzada\n",
        "num_folds = 5\n",
        "scores = cross_val_score(knn, X_train, y_train, cv = num_folds)"
      ]
    },
    {
      "cell_type": "code",
      "execution_count": null,
      "metadata": {
        "colab": {
          "base_uri": "https://localhost:8080/"
        },
        "id": "3bBFPgS3iNHR",
        "outputId": "eba0f7b1-5e3a-4a89-ef06-4bbc3aaed799"
      },
      "outputs": [
        {
          "output_type": "execute_result",
          "data": {
            "text/plain": [
              "array([0.9 , 0.9 , 0.9 , 0.89, 0.88])"
            ]
          },
          "metadata": {},
          "execution_count": 65
        }
      ],
      "source": [
        "scores"
      ]
    },
    {
      "cell_type": "code",
      "execution_count": null,
      "metadata": {
        "colab": {
          "base_uri": "https://localhost:8080/"
        },
        "id": "2LYZaNpyn5IZ",
        "outputId": "61ea35c4-1b48-44eb-b008-986cc981db21"
      },
      "outputs": [
        {
          "output_type": "stream",
          "name": "stdout",
          "text": [
            "0.8965798045602605\n",
            "0.8990228013029316\n",
            "0.9030944625407166\n",
            "0.8925081433224755\n",
            "0.8818255908720456\n"
          ]
        }
      ],
      "source": [
        "for v in scores:\n",
        "  print(v)"
      ]
    },
    {
      "cell_type": "code",
      "execution_count": null,
      "metadata": {
        "colab": {
          "base_uri": "https://localhost:8080/"
        },
        "id": "WEEwNkddBnJH",
        "outputId": "ba6f39b2-161d-4701-9e66-5cd07e6816e0"
      },
      "outputs": [
        {
          "output_type": "execute_result",
          "data": {
            "text/plain": [
              "0.007255313838633488"
            ]
          },
          "metadata": {},
          "execution_count": 67
        }
      ],
      "source": [
        "stdevCross = scores.std()\n",
        "stdevCross"
      ]
    },
    {
      "cell_type": "markdown",
      "metadata": {
        "id": "AYZAW_OMBbHk"
      },
      "source": [
        "## Avaliação mudança de atividade\n",
        "\n",
        "1. Escolher uma amostra de um tipo de atividade qualquer e rodar a avaliação do algoritmo.\n",
        "\n",
        "2. Sortear um numero com probabilidade de 10% para um numero e 90% para outra, caso caia nos 10% escolher uma outra amostra de uma atividade diferente, do contrário escolher outra amostra com a mesma atividade.\n",
        "\n",
        "3. Rodar a avaliação do algoritmo.\n",
        "\n",
        "4. Repetir os passos com o restante das amostras.\n",
        "\n",
        "5. Ao final, analizar as métricas.\n",
        "\n",
        "> Sequencia de uma atividade - > 0.995 (99,5%)\n",
        "\n",
        "- Algoritmo identificar como atividade diferente (mudança de atividade para o algoritmo) marcar como FN\n",
        "- Algoritmo identificar como mesma atividade (não mudança de atividade para o algoritmo) marcar como TP\n",
        "\n",
        "> Mudança de atividade - <= 0.005 (0,5%)\n",
        "\n",
        "- Algoritmo identificar como atividade diferente (mudança de atividade para o algoritmo) marcar como TN\n",
        "- Algoritmo identificar como mesma atividade (não mudança de atividade para o algoritmo) marcar como FP\n"
      ]
    },
    {
      "cell_type": "code",
      "execution_count": null,
      "metadata": {
        "id": "qIOrCxzcZ4Lm"
      },
      "outputs": [],
      "source": [
        "copyX_test = X_test\n",
        "copyY_test = y_test"
      ]
    },
    {
      "cell_type": "code",
      "execution_count": null,
      "metadata": {
        "colab": {
          "base_uri": "https://localhost:8080/"
        },
        "id": "KQa0mojm70FW",
        "outputId": "aa924882-5d33-40c4-d10b-06a5b71bde53"
      },
      "outputs": [
        {
          "output_type": "execute_result",
          "data": {
            "text/plain": [
              "2632"
            ]
          },
          "metadata": {},
          "execution_count": 69
        }
      ],
      "source": [
        "len(X_test)"
      ]
    },
    {
      "cell_type": "markdown",
      "metadata": {
        "id": "G4bEkE5qNCZs"
      },
      "source": [
        "### 1. Probabilidade única"
      ]
    },
    {
      "cell_type": "code",
      "execution_count": null,
      "metadata": {
        "colab": {
          "base_uri": "https://localhost:8080/"
        },
        "id": "-bDuLkjcLEFu",
        "outputId": "34f24724-6822-436a-dab2-a03fbcc99cc1"
      },
      "outputs": [
        {
          "output_type": "stream",
          "name": "stdout",
          "text": [
            "4\n",
            "4374\n",
            "21800\n",
            "142\n"
          ]
        }
      ],
      "source": [
        "# tempo de execução médio do código: 5 minutos\n",
        "# accuracys = []\n",
        "# FPs = []\n",
        "# FNs = []\n",
        "trues = []\n",
        "predictions = []\n",
        "# for i in np.arange(0.1, 1, 0.1):\n",
        "# labels = [0, 1, 2, 3, 4, 5, 6]\n",
        "labels = df_trat[\"label\"].unique().tolist()\n",
        "\n",
        "TP = 0\n",
        "TN = 0\n",
        "FP = 0\n",
        "FN = 0\n",
        "\n",
        "numbers = []\n",
        "\n",
        "newYtest = []\n",
        "\n",
        "formerLabel = 0\n",
        "formerPrediction = 0\n",
        "\n",
        "lock = 0\n",
        "\n",
        "initialRandomLabel = random.choice(labels) # Label aleatória inicial\n",
        "\n",
        "positionsInitialCopyYTest = np.where(copyY_test == initialRandomLabel) # Todas as posições em que a label inicial aparece\n",
        "positionsCurrentCopyYTest = positionsInitialCopyYTest\n",
        "\n",
        "initialPositionLabel = copyY_test[random.choice(positionsInitialCopyYTest[0])] # Posição aleatória em que a label inicial aparece, essa posição tambem valera para a primeira amostra\n",
        "currentRandomLabel = initialRandomLabel # label atual, no inicio da analise a label inicial é a label atual \n",
        "\n",
        "positionsLabelsHistoric = []\n",
        "\n",
        "\n",
        "initialPrediction = knn.predict(copyX_test[initialPositionLabel].reshape(1, -1)) # predição da linha inicial da analise\n",
        "currentPrediction = initialPrediction\n",
        "\n",
        "positionsLabelsHistoric.append(initialPositionLabel)\n",
        "\n",
        "\n",
        "# loop da analise que ira iterar cada amostra do conjunto de amostras\n",
        "random.seed(random.randint(1, 100000))\n",
        "while True:\n",
        "  if (FP + TP + TN + FN) == len(copyX_test) * 10:\n",
        "    break\n",
        "  else:\n",
        "    randomNumber = random.random()\n",
        "    numbers.append(randomNumber)\n",
        "\n",
        "    # Analisando nova amostra da mesma atividade \n",
        "    if randomNumber >= 0.005:\n",
        "      NewPositionSameLabel()\n",
        "\n",
        "      if positions == []:\n",
        "        newPredictionSameLabel()\n",
        "      else:\n",
        "        newPositionLabel = random.choice(positions)\n",
        "        positionsLabelsHistoric.append(newPositionLabel)\n",
        "\n",
        "        formerPrediction = currentPrediction\n",
        "\n",
        "        currentPrediction = knn.predict(copyX_test[newPositionLabel].reshape(1, -1))\n",
        "        if currentPrediction == formerPrediction:\n",
        "          TP = TP + 1\n",
        "          trues.append(formerPrediction[0])\n",
        "          predictions.append(currentPrediction[0])\n",
        "          newYtest.append(0)\n",
        "        else:\n",
        "          FN = FN + 1\n",
        "          trues.append(formerPrediction[0])\n",
        "          predictions.append(currentPrediction[0])\n",
        "          newYtest.append(0)\n",
        "\n",
        "    # Analise de uma nova amostra de atividade diferente\n",
        "    if randomNumber < 0.005:\n",
        "      # armazenando a antiga label e removendo a mesma temporariamente do array de labels\n",
        "      formerLabel = currentRandomLabel\n",
        "      labels.remove(formerLabel)\n",
        "\n",
        "      # Randomizando uma nova label\n",
        "      currentRandomLabel = random.choice(labels)\n",
        "      # NDArray com as posições da nova label e randomização da posição aleatoria\n",
        "      positionsCurrentCopyYTest = np.where(copyY_test == currentRandomLabel)\n",
        "\n",
        "      NewPositionSameLabel()\n",
        "\n",
        "      if positions == []:\n",
        "        newPredictionNewLabel()\n",
        "      else:\n",
        "        newPositionLabel = random.choice(positions)\n",
        "        positionsLabelsHistoric.append(newPositionLabel)\n",
        "\n",
        "        formerPrediction = currentPrediction\n",
        "\n",
        "        currentPrediction = knn.predict(copyX_test[newPositionLabel].reshape(1, -1))\n",
        "        if currentPrediction == formerPrediction:\n",
        "          FP = FP + 1\n",
        "          trues.append(formerPrediction[0])\n",
        "          predictions.append(currentPrediction[0])\n",
        "          newYtest.append(1)\n",
        "        else:\n",
        "          TN = TN + 1\n",
        "          trues.append(formerPrediction[0])\n",
        "          predictions.append(currentPrediction[0])\n",
        "          newYtest.append(1)\n",
        "\n",
        "        # devolvendo a label antiga ao array de labels\n",
        "        labels.append(formerLabel)\n",
        "\n",
        "print(FP)\n",
        "print(FN)\n",
        "print(TP)\n",
        "print(TN)\n",
        "\n",
        "accuracy = (TP + TN)/(TP + TN + FP + FN)\n",
        "# accuracys.append(accuracy)\n",
        "# FPs.append(FP)\n",
        "# FNs.append(FN)\n"
      ]
    },
    {
      "cell_type": "code",
      "execution_count": null,
      "metadata": {
        "colab": {
          "base_uri": "https://localhost:8080/"
        },
        "id": "JZ5hq9xgNUy5",
        "outputId": "a624ec26-275a-4047-fbd2-769ac8954d70"
      },
      "outputs": [
        {
          "output_type": "execute_result",
          "data": {
            "text/plain": [
              "0.8336626139817629"
            ]
          },
          "metadata": {},
          "execution_count": 71
        }
      ],
      "source": [
        "accuracy"
      ]
    },
    {
      "cell_type": "code",
      "execution_count": null,
      "metadata": {
        "id": "F9INJIUEapoe"
      },
      "outputs": [],
      "source": [
        "labels = df_trat[\"label\"].unique()\n",
        "labels.sort()"
      ]
    },
    {
      "cell_type": "code",
      "execution_count": null,
      "metadata": {
        "colab": {
          "base_uri": "https://localhost:8080/",
          "height": 710
        },
        "id": "IoY5RFHJmpJU",
        "outputId": "d942f587-6a7d-448c-9f1a-8779b3be0ad3"
      },
      "outputs": [
        {
          "output_type": "stream",
          "name": "stdout",
          "text": [
            "              precision    recall  f1-score   support\n",
            "\n",
            "           0       0.67      0.67      0.67      2625\n",
            "           1       0.80      0.80      0.80      4304\n",
            "           2       0.82      0.82      0.82      4580\n",
            "           3       0.73      0.73      0.73      2746\n",
            "           4       0.94      0.94      0.94      4964\n",
            "           5       0.84      0.84      0.84      3683\n",
            "           6       0.91      0.91      0.91      3418\n",
            "\n",
            "    accuracy                           0.83     26320\n",
            "   macro avg       0.81      0.81      0.81     26320\n",
            "weighted avg       0.83      0.83      0.83     26320\n",
            "\n",
            "Confusion matrix, without normalization\n",
            "[[1746  254  183  200   16  193   33]\n",
            " [ 239 3443  243  190   96   66   27]\n",
            " [ 177  249 3740  121   66  110  117]\n",
            " [ 217  180  121 1996   64  136   32]\n",
            " [  17   94   60   67 4681    6   39]\n",
            " [ 191   56  116  140    4 3102   74]\n",
            " [  38   27  117   32   37   71 3096]]\n"
          ]
        },
        {
          "output_type": "display_data",
          "data": {
            "text/plain": [
              "<Figure size 432x288 with 2 Axes>"
            ],
            "image/png": "[encoded data removed]"
          },
          "metadata": {
            "needs_background": "light"
          }
        }
      ],
      "source": [
        "cnf_matrix = confusion_matrix(trues, predictions, labels=labels.tolist())\n",
        "np.set_printoptions(precision=2)\n",
        "\n",
        "print (classification_report(trues, predictions))\n",
        "\n",
        "# Plot non-normalized confusion matrix\n",
        "plt.figure()\n",
        "plot_confusion_matrix(cnf_matrix, classes=labelsName.tolist(),normalize= False,  title='Confusion matrix - Fase II')"
      ]
    },
    {
      "cell_type": "code",
      "source": [
        "f1_score(trues, predictions, average='weighted')"
      ],
      "metadata": {
        "colab": {
          "base_uri": "https://localhost:8080/"
        },
        "id": "QZ2n1QPP1uz_",
        "outputId": "78e0e5d5-37a4-4862-e778-e720dba54af8"
      },
      "execution_count": null,
      "outputs": [
        {
          "output_type": "execute_result",
          "data": {
            "text/plain": [
              "0.8284186533555035"
            ]
          },
          "metadata": {},
          "execution_count": 74
        }
      ]
    },
    {
      "cell_type": "markdown",
      "metadata": {
        "id": "LU68HSrRIVZm"
      },
      "source": [
        "### 2. Variação das probabilidades"
      ]
    },
    {
      "cell_type": "code",
      "execution_count": null,
      "metadata": {
        "id": "5qyn_ziteqz7"
      },
      "outputs": [],
      "source": [
        "copyX_test = X_test\n",
        "copyY_test = y_test"
      ]
    },
    {
      "cell_type": "code",
      "execution_count": null,
      "metadata": {
        "id": "9GcKk7PYI-Pu"
      },
      "outputs": [],
      "source": [
        "# tempo de execução médio do código: 5 minutos\n",
        "accuracys = []\n",
        "FPs = []\n",
        "FNs = []\n",
        "\n",
        "for i in np.arange(0.1, 1, 0.1):\n",
        "  labels = df_trat[\"label\"].unique().tolist()\n",
        "\n",
        "  TP = 0\n",
        "  TN = 0\n",
        "  FP = 0\n",
        "  FN = 0\n",
        "\n",
        "  newYtest = []\n",
        "\n",
        "  formerLabel = 0\n",
        "  formerPrediction = 0\n",
        "\n",
        "  lock = 0\n",
        "\n",
        "  initialRandomLabel = random.choice(labels) # Label aleatória inicial\n",
        "\n",
        "  positionsInitialCopyYTest = np.where(copyY_test == initialRandomLabel) # Todas as posições em que a label inicial aparece\n",
        "  positionsCurrentCopyYTest = positionsInitialCopyYTest\n",
        "\n",
        "  initialPositionLabel = copyY_test[random.choice(positionsInitialCopyYTest[0])] # Posição aleatória em que a label inicial aparece, essa posição tambem valera para a primeira amostra\n",
        "  currentRandomLabel = initialRandomLabel # label atual, no inicio da analise a label inicial é a label atual \n",
        "\n",
        "  positionsLabelsHistoric = []\n",
        "\n",
        "\n",
        "  initialPrediction = knn.predict(copyX_test[initialPositionLabel].reshape(1, -1)) # predição da linha inicial da analise\n",
        "  currentPrediction = initialPrediction\n",
        "\n",
        "  positionsLabelsHistoric.append(initialPositionLabel)\n",
        "\n",
        "  random.seed(random.randint(1, 10000))\n",
        "  # loop da analise que ira iterar cada amostra do conjunto de amostras\n",
        "  while True:\n",
        "    if (FP + TP + TN + FN) == len(copyX_test):\n",
        "      break\n",
        "    else:\n",
        "      randomNumber = random.random()\n",
        "\n",
        "      # Analisando nova amostra da mesma atividade \n",
        "      if randomNumber > i:\n",
        "        NewPositionSameLabel()\n",
        "\n",
        "        if positions == []:\n",
        "          newPredictionSameLabel()\n",
        "        else:\n",
        "          newPositionLabel = random.choice(positions)\n",
        "          positionsLabelsHistoric.append(newPositionLabel)\n",
        "\n",
        "          formerPrediction = currentPrediction\n",
        "\n",
        "          currentPrediction = knn.predict(copyX_test[newPositionLabel].reshape(1, -1))\n",
        "          if currentPrediction == formerPrediction:\n",
        "            TP = TP + 1\n",
        "            trues.append(formerPrediction[0])\n",
        "            predictions.append(currentPrediction[0])\n",
        "            newYtest.append(0)\n",
        "          else:\n",
        "            FN = FN + 1\n",
        "            trues.append(formerPrediction[0])\n",
        "            predictions.append(currentPrediction[0])\n",
        "            newYtest.append(0)\n",
        "\n",
        "      # Analise de uma nova amostra de atividade diferente\n",
        "      if randomNumber < i:\n",
        "        # armazenando a antiga label e removendo a mesma temporariamente do array de labels\n",
        "        formerLabel = currentRandomLabel\n",
        "        labels.remove(formerLabel)\n",
        "\n",
        "        # Randomizando uma nova label\n",
        "        currentRandomLabel = random.choice(labels)\n",
        "        # NDArray com as posições da nova label e randomização da posição aleatoria\n",
        "        positionsCurrentCopyYTest = np.where(copyY_test == currentRandomLabel)\n",
        "\n",
        "        NewPositionSameLabel()\n",
        "\n",
        "        if positions == []:\n",
        "          newPredictionNewLabel()\n",
        "        else:\n",
        "          newPositionLabel = random.choice(positions)\n",
        "          positionsLabelsHistoric.append(newPositionLabel)\n",
        "\n",
        "          formerPrediction = currentPrediction\n",
        "\n",
        "          currentPrediction = knn.predict(copyX_test[newPositionLabel].reshape(1, -1))\n",
        "          if currentPrediction == formerPrediction:\n",
        "            FP = FP + 1\n",
        "            trues.append(formerPrediction[0])\n",
        "            predictions.append(currentPrediction[0])\n",
        "            newYtest.append(1)\n",
        "          else:\n",
        "            TN = TN + 1\n",
        "            trues.append(formerPrediction[0])\n",
        "            predictions.append(currentPrediction[0])\n",
        "            newYtest.append(1)\n",
        "\n",
        "          # devolvendo a label antiga ao array de labels\n",
        "          labels.append(formerLabel)\n",
        "\n",
        "  accuracy = (TP + TN)/(TP + TN + FP + FN)\n",
        "  accuracys.append(accuracy)\n",
        "  FPs.append(FP)\n",
        "  FNs.append(FN)"
      ]
    },
    {
      "cell_type": "code",
      "execution_count": null,
      "metadata": {
        "colab": {
          "base_uri": "https://localhost:8080/"
        },
        "id": "qxV1oL4JxZ_8",
        "outputId": "8b37a9c2-8cce-4ef5-b5ec-4e4dd525431e"
      },
      "outputs": [
        {
          "output_type": "execute_result",
          "data": {
            "text/plain": [
              "[0.8446048632218845,\n",
              " 0.8419452887537994,\n",
              " 0.8582826747720365,\n",
              " 0.8917173252279635,\n",
              " 0.9004559270516718,\n",
              " 0.9137537993920972,\n",
              " 0.9327507598784195,\n",
              " 0.9407294832826748,\n",
              " 0.9582066869300911]"
            ]
          },
          "metadata": {},
          "execution_count": 60
        }
      ],
      "source": [
        "accuracys"
      ]
    },
    {
      "cell_type": "code",
      "execution_count": null,
      "metadata": {
        "colab": {
          "base_uri": "https://localhost:8080/"
        },
        "id": "5n8mO_go5qNE",
        "outputId": "8d91e861-dcf4-4caa-d526-4e36eb58dac5"
      },
      "outputs": [
        {
          "output_type": "execute_result",
          "data": {
            "text/plain": [
              "Text(0, 0.5, 'FPs')"
            ]
          },
          "metadata": {},
          "execution_count": 61
        },
        {
          "output_type": "display_data",
          "data": {
            "text/plain": [
              "<Figure size 864x432 with 1 Axes>"
            ],
            "image/png": "[encoded data removed]"
          },
          "metadata": {
            "needs_background": "light"
          }
        }
      ],
      "source": [
        "plt.figure(figsize=(12, 6))  \n",
        "plt.plot(np.arange(0.1, 1, 0.1), FPs, color='#005f73', linestyle='dashed', marker='o',  \n",
        "         markerfacecolor='#bb3e03', markersize=10)\n",
        "plt.title('False Positive Rate')  \n",
        "plt.xlabel('Probability')  \n",
        "plt.ylabel('FPs') "
      ]
    },
    {
      "cell_type": "code",
      "execution_count": null,
      "metadata": {
        "colab": {
          "base_uri": "https://localhost:8080/",
          "height": 422
        },
        "id": "KcOY-lYL5wUP",
        "outputId": "03f5bedb-5a80-482b-e591-53ebe52f96dc"
      },
      "outputs": [
        {
          "output_type": "execute_result",
          "data": {
            "text/plain": [
              "Text(0, 0.5, 'FNs')"
            ]
          },
          "metadata": {},
          "execution_count": 62
        },
        {
          "output_type": "display_data",
          "data": {
            "text/plain": [
              "<Figure size 864x432 with 1 Axes>"
            ],
            "image/png": "[encoded data removed]"
          },
          "metadata": {
            "needs_background": "light"
          }
        }
      ],
      "source": [
        "plt.figure(figsize=(12, 6))  \n",
        "plt.plot(np.arange(0.1, 1, 0.1), FNs, color='#005f73', linestyle='dashed', marker='o',  \n",
        "         markerfacecolor='#bb3e03', markersize=10)\n",
        "plt.title('False Negative Rate')  \n",
        "plt.xlabel('Probability')  \n",
        "plt.ylabel('FNs') "
      ]
    },
    {
      "cell_type": "code",
      "execution_count": null,
      "metadata": {
        "colab": {
          "base_uri": "https://localhost:8080/",
          "height": 422
        },
        "id": "ENZ3dPO6DT_Z",
        "outputId": "5a8a9836-037a-4f13-f86f-c53148b2c6fc"
      },
      "outputs": [
        {
          "output_type": "execute_result",
          "data": {
            "text/plain": [
              "Text(0, 0.5, 'Accuracy')"
            ]
          },
          "metadata": {},
          "execution_count": 63
        },
        {
          "output_type": "display_data",
          "data": {
            "text/plain": [
              "<Figure size 864x432 with 1 Axes>"
            ],
            "image/png": "[encoded data removed]"
          },
          "metadata": {
            "needs_background": "light"
          }
        }
      ],
      "source": [
        "plt.figure(figsize=(12, 6))  \n",
        "plt.plot(np.arange(0.1, 1, 0.1), accuracys, color='#005f73', linestyle='dashed', marker='o',  \n",
        "         markerfacecolor='#bb3e03', markersize=10)\n",
        "plt.title('Accuracy Rate')  \n",
        "plt.xlabel('Probability')  \n",
        "plt.ylabel('Accuracy') "
      ]
    },
    {
      "cell_type": "markdown",
      "metadata": {
        "id": "JcAfdLVZjkD2"
      },
      "source": [
        "# Regressão Logistica"
      ]
    },
    {
      "cell_type": "code",
      "execution_count": null,
      "metadata": {
        "colab": {
          "base_uri": "https://localhost:8080/"
        },
        "id": "vY6PWukyjRlO",
        "outputId": "19b1b522-78d4-406d-f444-8c970e0f3bfd"
      },
      "outputs": [
        {
          "output_type": "stream",
          "name": "stderr",
          "text": [
            "/usr/local/lib/python3.8/dist-packages/sklearn/linear_model/_sag.py:352: ConvergenceWarning: The max_iter was reached which means the coef_ did not converge\n",
            "  warnings.warn(\n"
          ]
        }
      ],
      "source": [
        "LR = LogisticRegression(solver='saga',multi_class='multinomial').fit(X_train,y_train)"
      ]
    },
    {
      "cell_type": "code",
      "execution_count": null,
      "metadata": {
        "colab": {
          "base_uri": "https://localhost:8080/"
        },
        "id": "6bDfLzgpjzhk",
        "outputId": "74a3e195-40d0-4f0c-87b9-c930553d8eb3"
      },
      "outputs": [
        {
          "output_type": "execute_result",
          "data": {
            "text/plain": [
              "array([4, 6, 2, ..., 5, 6, 6], dtype=int8)"
            ]
          },
          "metadata": {},
          "execution_count": 65
        }
      ],
      "source": [
        "yhat = LR.predict(X_test)\n",
        "yhat"
      ]
    },
    {
      "cell_type": "code",
      "execution_count": null,
      "metadata": {
        "colab": {
          "base_uri": "https://localhost:8080/"
        },
        "id": "UbVh057LQrca",
        "outputId": "59096661-4720-4f7c-d4e2-274fa505c586"
      },
      "outputs": [
        {
          "output_type": "execute_result",
          "data": {
            "text/plain": [
              "0.685417143368313"
            ]
          },
          "metadata": {},
          "execution_count": 66
        }
      ],
      "source": [
        "f1_score(y_test, yhat, average='weighted') "
      ]
    },
    {
      "cell_type": "code",
      "execution_count": null,
      "metadata": {
        "colab": {
          "base_uri": "https://localhost:8080/"
        },
        "id": "BiiQNoOej35g",
        "outputId": "851a542f-520b-4cf7-e976-f76e2ef61ecd"
      },
      "outputs": [
        {
          "output_type": "stream",
          "name": "stdout",
          "text": [
            "Accuracy Test: 0.6968085106382979\n"
          ]
        }
      ],
      "source": [
        "print(\"Accuracy Test:\",accuracy_score(y_test, yhat))\n",
        "#print(\"Precision Test:\",metrics.precision_score(y_test, yhat))"
      ]
    },
    {
      "cell_type": "code",
      "execution_count": null,
      "metadata": {
        "id": "BIugqQKgkzeE"
      },
      "outputs": [],
      "source": [
        "y_proba = LR.predict_proba(X_test)"
      ]
    },
    {
      "cell_type": "code",
      "execution_count": null,
      "metadata": {
        "colab": {
          "base_uri": "https://localhost:8080/"
        },
        "id": "G_kMaDGVdUPw",
        "outputId": "39f197d3-9ef0-4242-e417-e58aa4cf17c5"
      },
      "outputs": [
        {
          "output_type": "execute_result",
          "data": {
            "text/plain": [
              "array([1.83e-03, 3.35e-02, 4.68e-05, 1.94e-03, 9.63e-01, 9.29e-06,\n",
              "       6.43e-11])"
            ]
          },
          "metadata": {},
          "execution_count": 69
        }
      ],
      "source": [
        "y_proba[0]"
      ]
    },
    {
      "cell_type": "code",
      "execution_count": null,
      "metadata": {
        "id": "yuP5hm8LRBmF"
      },
      "outputs": [],
      "source": [
        "labels = df_trat[\"label\"].unique()\n",
        "labels.sort()"
      ]
    },
    {
      "cell_type": "code",
      "execution_count": null,
      "metadata": {
        "colab": {
          "base_uri": "https://localhost:8080/"
        },
        "id": "WBkFwqlDnJRU",
        "outputId": "e24d6349-7ca3-4006-8ebc-c69373194723"
      },
      "outputs": [
        {
          "output_type": "stream",
          "name": "stdout",
          "text": [
            "              precision    recall  f1-score   support\n",
            "\n",
            "           0       0.60      0.38      0.46       387\n",
            "           1       0.62      0.56      0.59       383\n",
            "           2       0.67      0.60      0.64       384\n",
            "           3       0.69      0.66      0.68       374\n",
            "           4       0.89      0.95      0.91       364\n",
            "           5       0.70      0.88      0.78       361\n",
            "           6       0.67      0.88      0.76       379\n",
            "\n",
            "    accuracy                           0.70      2632\n",
            "   macro avg       0.69      0.70      0.69      2632\n",
            "weighted avg       0.69      0.70      0.69      2632\n",
            "\n",
            "Confusion matrix, without normalization\n",
            "[[146  51  37  25   3  93  32]\n",
            " [ 24 216  38  67   5  17  16]\n",
            " [ 31  45 232   6  13   3  54]\n",
            " [ 21  28  14 247   0  23  41]\n",
            " [  0   2   6   0 344   0  12]\n",
            " [ 18   5   0  10   0 317  11]\n",
            " [  2   3  17   1  23   1 332]]\n"
          ]
        },
        {
          "output_type": "display_data",
          "data": {
            "text/plain": [
              "<Figure size 432x288 with 2 Axes>"
            ],
            "image/png": "[encoded data removed]"
          },
          "metadata": {
            "needs_background": "light"
          }
        }
      ],
      "source": [
        "cnf_matrix = confusion_matrix(y_test, yhat, labels=labels.tolist())\n",
        "np.set_printoptions(precision=2)\n",
        "\n",
        "print (classification_report(y_test, yhat))\n",
        "\n",
        "# Plot non-normalized confusion matrix\n",
        "plt.figure()\n",
        "plot_confusion_matrix(cnf_matrix, classes=labelsName.tolist(),normalize= False,  title='Confusion matrix - Regressão logística')"
      ]
    },
    {
      "cell_type": "code",
      "execution_count": null,
      "metadata": {
        "colab": {
          "base_uri": "https://localhost:8080/"
        },
        "id": "TFMNBf_fj-91",
        "outputId": "d9352877-3b11-4696-ee29-61ffd7f19aa0"
      },
      "outputs": [
        {
          "output_type": "stream",
          "name": "stderr",
          "text": [
            "/usr/local/lib/python3.8/dist-packages/sklearn/linear_model/_sag.py:352: ConvergenceWarning: The max_iter was reached which means the coef_ did not converge\n",
            "  warnings.warn(\n",
            "/usr/local/lib/python3.8/dist-packages/sklearn/linear_model/_sag.py:352: ConvergenceWarning: The max_iter was reached which means the coef_ did not converge\n",
            "  warnings.warn(\n",
            "/usr/local/lib/python3.8/dist-packages/sklearn/linear_model/_sag.py:352: ConvergenceWarning: The max_iter was reached which means the coef_ did not converge\n",
            "  warnings.warn(\n",
            "/usr/local/lib/python3.8/dist-packages/sklearn/linear_model/_sag.py:352: ConvergenceWarning: The max_iter was reached which means the coef_ did not converge\n",
            "  warnings.warn(\n",
            "/usr/local/lib/python3.8/dist-packages/sklearn/linear_model/_sag.py:352: ConvergenceWarning: The max_iter was reached which means the coef_ did not converge\n",
            "  warnings.warn(\n"
          ]
        }
      ],
      "source": [
        "num_folds = 5\n",
        "scores = cross_val_score(LR, X_train, y_train, cv = num_folds)"
      ]
    },
    {
      "cell_type": "code",
      "execution_count": null,
      "metadata": {
        "colab": {
          "base_uri": "https://localhost:8080/"
        },
        "id": "OY4LmbOJkdBM",
        "outputId": "b3780ce9-e28f-4ae8-ef68-ff21eacca7c4"
      },
      "outputs": [
        {
          "output_type": "execute_result",
          "data": {
            "text/plain": [
              "array([0.69, 0.69, 0.72, 0.69, 0.7 ])"
            ]
          },
          "metadata": {},
          "execution_count": 73
        }
      ],
      "source": [
        "scores"
      ]
    },
    {
      "cell_type": "code",
      "execution_count": null,
      "metadata": {
        "colab": {
          "base_uri": "https://localhost:8080/"
        },
        "id": "1I8edemLnlhT",
        "outputId": "3612cdd2-f324-429a-a7d7-ae4f17717758"
      },
      "outputs": [
        {
          "output_type": "stream",
          "name": "stdout",
          "text": [
            "0.6946254071661238\n",
            "0.6913680781758957\n",
            "0.7166123778501629\n",
            "0.6872964169381107\n",
            "0.7017114914425427\n"
          ]
        }
      ],
      "source": [
        "for v in scores:\n",
        "  print(v)"
      ]
    },
    {
      "cell_type": "code",
      "execution_count": null,
      "metadata": {
        "colab": {
          "base_uri": "https://localhost:8080/"
        },
        "id": "MK7Dk_GxCo_W",
        "outputId": "0bf44906-ab26-4a57-ddd2-120c4fdc09bc"
      },
      "outputs": [
        {
          "output_type": "execute_result",
          "data": {
            "text/plain": [
              "0.010291859700420371"
            ]
          },
          "metadata": {},
          "execution_count": 75
        }
      ],
      "source": [
        "stdevCross = scores.std()\n",
        "stdevCross"
      ]
    },
    {
      "cell_type": "markdown",
      "metadata": {
        "id": "RS-NM421w58V"
      },
      "source": [
        "#SVM"
      ]
    },
    {
      "cell_type": "code",
      "execution_count": null,
      "metadata": {
        "colab": {
          "base_uri": "https://localhost:8080/"
        },
        "id": "KsQh9uuBw4OC",
        "outputId": "39bc8dae-0561-4e3c-8bd5-86a329837340"
      },
      "outputs": [
        {
          "output_type": "execute_result",
          "data": {
            "text/plain": [
              "SVC()"
            ]
          },
          "metadata": {},
          "execution_count": 76
        }
      ],
      "source": [
        "clf = svm.SVC(kernel='rbf')\n",
        "clf.fit(X_train, y_train) "
      ]
    },
    {
      "cell_type": "code",
      "execution_count": null,
      "metadata": {
        "colab": {
          "base_uri": "https://localhost:8080/"
        },
        "id": "3xzTRgCU7X9n",
        "outputId": "20fe9886-b915-4ce5-fc3a-8ac96f184025"
      },
      "outputs": [
        {
          "output_type": "execute_result",
          "data": {
            "text/plain": [
              "array([4, 6, 1, ..., 5, 6, 6], dtype=int8)"
            ]
          },
          "metadata": {},
          "execution_count": 77
        }
      ],
      "source": [
        "yhat = clf.predict(X_test)\n",
        "yhat "
      ]
    },
    {
      "cell_type": "code",
      "execution_count": null,
      "metadata": {
        "colab": {
          "base_uri": "https://localhost:8080/"
        },
        "id": "Bd-VWGlH7mU0",
        "outputId": "2f470fdd-d64e-48ae-e2d3-ff81cbc95711"
      },
      "outputs": [
        {
          "output_type": "execute_result",
          "data": {
            "text/plain": [
              "0.8790118348106122"
            ]
          },
          "metadata": {},
          "execution_count": 78
        }
      ],
      "source": [
        "f1_score(y_test, yhat, average='weighted') "
      ]
    },
    {
      "cell_type": "code",
      "execution_count": null,
      "metadata": {
        "colab": {
          "base_uri": "https://localhost:8080/"
        },
        "id": "gak6812t7ndg",
        "outputId": "20410b0a-bf89-4915-f30f-0a4175206182"
      },
      "outputs": [
        {
          "output_type": "stream",
          "name": "stdout",
          "text": [
            "Accuracy: 0.881079027355623\n"
          ]
        }
      ],
      "source": [
        "print(\"Accuracy:\",accuracy_score(y_test, yhat))"
      ]
    },
    {
      "cell_type": "code",
      "execution_count": null,
      "metadata": {
        "colab": {
          "base_uri": "https://localhost:8080/"
        },
        "id": "xZ41V4ZLnkRI",
        "outputId": "aff5c66d-0029-4fd3-f2bc-16b2f482b998"
      },
      "outputs": [
        {
          "output_type": "stream",
          "name": "stdout",
          "text": [
            "              precision    recall  f1-score   support\n",
            "\n",
            "           0       0.88      0.70      0.78       387\n",
            "           1       0.90      0.90      0.90       383\n",
            "           2       0.90      0.86      0.88       384\n",
            "           3       0.88      0.83      0.85       374\n",
            "           4       0.95      0.98      0.96       364\n",
            "           5       0.86      0.95      0.90       361\n",
            "           6       0.81      0.97      0.88       379\n",
            "\n",
            "    accuracy                           0.88      2632\n",
            "   macro avg       0.88      0.88      0.88      2632\n",
            "weighted avg       0.88      0.88      0.88      2632\n",
            "\n",
            "Confusion matrix, without normalization\n",
            "[[269  22  11  23   0  31  31]\n",
            " [  9 345   4  10   7   7   1]\n",
            " [ 11  11 331   5   7   3  16]\n",
            " [  8   3   9 309   4  13  28]\n",
            " [  0   2   0   1 355   0   6]\n",
            " [  8   0   2   5   0 342   4]\n",
            " [  0   0   9   0   1   1 368]]\n"
          ]
        },
        {
          "output_type": "display_data",
          "data": {
            "text/plain": [
              "<Figure size 432x288 with 2 Axes>"
            ],
            "image/png": "[encoded data removed]"
          },
          "metadata": {
            "needs_background": "light"
          }
        }
      ],
      "source": [
        "cnf_matrix = confusion_matrix(y_test, yhat, labels=labels.tolist())\n",
        "np.set_printoptions(precision=2)\n",
        "\n",
        "print (classification_report(y_test, yhat))\n",
        "\n",
        "# Plot non-normalized confusion matrix\n",
        "plt.figure()\n",
        "plot_confusion_matrix(cnf_matrix, classes=labelsName.tolist(),normalize= False,  title='Confusion matrix - SVM')"
      ]
    },
    {
      "cell_type": "code",
      "execution_count": null,
      "metadata": {
        "id": "Zt2FpNRoksUL"
      },
      "outputs": [],
      "source": [
        "num_folds = 5\n",
        "scores = cross_val_score(clf, X_train, y_train, cv = num_folds)"
      ]
    },
    {
      "cell_type": "code",
      "execution_count": null,
      "metadata": {
        "colab": {
          "base_uri": "https://localhost:8080/"
        },
        "id": "nHerg04Bk8df",
        "outputId": "4bb364c1-af56-432f-b9d6-c6a9274e55fa"
      },
      "outputs": [
        {
          "output_type": "execute_result",
          "data": {
            "text/plain": [
              "array([0.88, 0.89, 0.88, 0.86, 0.87])"
            ]
          },
          "metadata": {},
          "execution_count": 82
        }
      ],
      "source": [
        "scores"
      ]
    },
    {
      "cell_type": "code",
      "execution_count": null,
      "metadata": {
        "colab": {
          "base_uri": "https://localhost:8080/"
        },
        "id": "q5BU2sIknKL_",
        "outputId": "c8cfd10a-1839-4b53-c9fa-f0eed4aa9f1b"
      },
      "outputs": [
        {
          "output_type": "stream",
          "name": "stdout",
          "text": [
            "0.8778501628664495\n",
            "0.8941368078175895\n",
            "0.8843648208469055\n",
            "0.8640065146579805\n",
            "0.8679706601466992\n"
          ]
        }
      ],
      "source": [
        "for v in scores:\n",
        "  print(v)"
      ]
    },
    {
      "cell_type": "code",
      "execution_count": null,
      "metadata": {
        "colab": {
          "base_uri": "https://localhost:8080/"
        },
        "id": "l2UJzuaDCrK8",
        "outputId": "bd9a9a55-a781-4d1a-f8f3-bcedd0911330"
      },
      "outputs": [
        {
          "output_type": "execute_result",
          "data": {
            "text/plain": [
              "0.010924987700958188"
            ]
          },
          "metadata": {},
          "execution_count": 84
        }
      ],
      "source": [
        "stdevCross = scores.std()\n",
        "stdevCross"
      ]
    },
    {
      "cell_type": "markdown",
      "metadata": {
        "id": "lZtD-vDNegQR"
      },
      "source": [
        "![image.png](data:image/png;base64,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)"
      ]
    }
  ],
  "metadata": {
    "colab": {
      "provenance": [],
      "toc_visible": true,
      "include_colab_link": true
    },
    "kernelspec": {
      "display_name": "Python 3",
      "language": "python",
      "name": "python3"
    },
    "language_info": {
      "codemirror_mode": {
        "name": "ipython",
        "version": 3
      },
      "file_extension": ".py",
      "mimetype": "text/x-python",
      "name": "python",
      "nbconvert_exporter": "python",
      "pygments_lexer": "ipython3",
      "version": "3.9.0 (tags/v3.9.0:9cf6752, Oct  5 2020, 15:34:40) [MSC v.1927 64 bit (AMD64)]"
    },
    "vscode": {
      "interpreter": {
        "hash": "88a0ba835f1f75f6dc0fea2fe4e7c06803e175a052ef5d47a0b7eb7744314f6e"
      }
    }
  },
  "nbformat": 4,
  "nbformat_minor": 0
}